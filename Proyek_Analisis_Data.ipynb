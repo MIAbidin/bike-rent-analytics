{
  "cells": [
    {
      "cell_type": "markdown",
      "metadata": {
        "id": "H9wADwK78DCz"
      },
      "source": [
        "# Proyek Analisis Data: Bike Sharing Dataset\n",
        "- **Nama:** Muhammad Irfan Abidin\n",
        "- **Email:** muhammadirfanabidin@gmail.com\n",
        "- **ID Dicoding:** [Input Username]"
      ]
    },
    {
      "cell_type": "markdown",
      "metadata": {
        "id": "eE0raob58DC0"
      },
      "source": [
        "## Menentukan Pertanyaan Bisnis"
      ]
    },
    {
      "cell_type": "markdown",
      "metadata": {
        "id": "GmQeQ5YF8DC0"
      },
      "source": [
        "- Bagaimana pola penggunaan sepeda berdasarkan musim dan apakah ada perbedaan signifikan antar musim?\n",
        "- Seberapa besar pengaruh kondisi cuaca (weathersit, temperature, humidity, windspeed) terhadap jumlah penyewaan sepeda?\n",
        "- Bagaimana perbedaan perilaku penyewaan antara pengguna casual dan registered, terutama pada hari kerja vs akhir pekan?\n",
        "- Pada jam berapa saja terjadi peak hours penyewaan sepeda dan bagaimana pola tersebut berbeda antara hari kerja dan akhir pekan?"
      ]
    },
    {
      "cell_type": "markdown",
      "metadata": {
        "id": "H-z4QGlO8DC1"
      },
      "source": [
        "## Import Semua Packages/Library yang Digunakan"
      ]
    },
    {
      "cell_type": "code",
      "execution_count": 2,
      "metadata": {
        "id": "FVYwaObI8DC1"
      },
      "outputs": [],
      "source": [
        "import numpy as np\n",
        "import pandas as pd\n",
        "import matplotlib.pyplot as plt\n",
        "import seaborn as sns\n",
        "import warnings\n",
        "\n",
        "sns.set_theme(style=\"whitegrid\")\n",
        "warnings.simplefilter(action='ignore', category=FutureWarning)"
      ]
    },
    {
      "cell_type": "markdown",
      "metadata": {
        "id": "h_Sh51Xy8DC1"
      },
      "source": [
        "## Data Wrangling"
      ]
    },
    {
      "cell_type": "markdown",
      "metadata": {
        "id": "sXU2GBYu8DC1"
      },
      "source": [
        "### Gathering Data"
      ]
    },
    {
      "cell_type": "code",
      "execution_count": 3,
      "metadata": {
        "id": "zjCBk1BI8DC1"
      },
      "outputs": [
        {
          "data": {
            "text/plain": [
              "(731, 16)"
            ]
          },
          "execution_count": 3,
          "metadata": {},
          "output_type": "execute_result"
        }
      ],
      "source": [
        "day_df = pd.read_csv('dataset/day.csv')\n",
        "day_df.shape"
      ]
    },
    {
      "cell_type": "code",
      "execution_count": 4,
      "metadata": {},
      "outputs": [
        {
          "data": {
            "text/html": [
              "<div>\n",
              "<style scoped>\n",
              "    .dataframe tbody tr th:only-of-type {\n",
              "        vertical-align: middle;\n",
              "    }\n",
              "\n",
              "    .dataframe tbody tr th {\n",
              "        vertical-align: top;\n",
              "    }\n",
              "\n",
              "    .dataframe thead th {\n",
              "        text-align: right;\n",
              "    }\n",
              "</style>\n",
              "<table border=\"1\" class=\"dataframe\">\n",
              "  <thead>\n",
              "    <tr style=\"text-align: right;\">\n",
              "      <th></th>\n",
              "      <th>instant</th>\n",
              "      <th>dteday</th>\n",
              "      <th>season</th>\n",
              "      <th>yr</th>\n",
              "      <th>mnth</th>\n",
              "      <th>holiday</th>\n",
              "      <th>weekday</th>\n",
              "      <th>workingday</th>\n",
              "      <th>weathersit</th>\n",
              "      <th>temp</th>\n",
              "      <th>atemp</th>\n",
              "      <th>hum</th>\n",
              "      <th>windspeed</th>\n",
              "      <th>casual</th>\n",
              "      <th>registered</th>\n",
              "      <th>cnt</th>\n",
              "    </tr>\n",
              "  </thead>\n",
              "  <tbody>\n",
              "    <tr>\n",
              "      <th>0</th>\n",
              "      <td>1</td>\n",
              "      <td>2011-01-01</td>\n",
              "      <td>1</td>\n",
              "      <td>0</td>\n",
              "      <td>1</td>\n",
              "      <td>0</td>\n",
              "      <td>6</td>\n",
              "      <td>0</td>\n",
              "      <td>2</td>\n",
              "      <td>0.344167</td>\n",
              "      <td>0.363625</td>\n",
              "      <td>0.805833</td>\n",
              "      <td>0.160446</td>\n",
              "      <td>331</td>\n",
              "      <td>654</td>\n",
              "      <td>985</td>\n",
              "    </tr>\n",
              "    <tr>\n",
              "      <th>1</th>\n",
              "      <td>2</td>\n",
              "      <td>2011-01-02</td>\n",
              "      <td>1</td>\n",
              "      <td>0</td>\n",
              "      <td>1</td>\n",
              "      <td>0</td>\n",
              "      <td>0</td>\n",
              "      <td>0</td>\n",
              "      <td>2</td>\n",
              "      <td>0.363478</td>\n",
              "      <td>0.353739</td>\n",
              "      <td>0.696087</td>\n",
              "      <td>0.248539</td>\n",
              "      <td>131</td>\n",
              "      <td>670</td>\n",
              "      <td>801</td>\n",
              "    </tr>\n",
              "    <tr>\n",
              "      <th>2</th>\n",
              "      <td>3</td>\n",
              "      <td>2011-01-03</td>\n",
              "      <td>1</td>\n",
              "      <td>0</td>\n",
              "      <td>1</td>\n",
              "      <td>0</td>\n",
              "      <td>1</td>\n",
              "      <td>1</td>\n",
              "      <td>1</td>\n",
              "      <td>0.196364</td>\n",
              "      <td>0.189405</td>\n",
              "      <td>0.437273</td>\n",
              "      <td>0.248309</td>\n",
              "      <td>120</td>\n",
              "      <td>1229</td>\n",
              "      <td>1349</td>\n",
              "    </tr>\n",
              "    <tr>\n",
              "      <th>3</th>\n",
              "      <td>4</td>\n",
              "      <td>2011-01-04</td>\n",
              "      <td>1</td>\n",
              "      <td>0</td>\n",
              "      <td>1</td>\n",
              "      <td>0</td>\n",
              "      <td>2</td>\n",
              "      <td>1</td>\n",
              "      <td>1</td>\n",
              "      <td>0.200000</td>\n",
              "      <td>0.212122</td>\n",
              "      <td>0.590435</td>\n",
              "      <td>0.160296</td>\n",
              "      <td>108</td>\n",
              "      <td>1454</td>\n",
              "      <td>1562</td>\n",
              "    </tr>\n",
              "    <tr>\n",
              "      <th>4</th>\n",
              "      <td>5</td>\n",
              "      <td>2011-01-05</td>\n",
              "      <td>1</td>\n",
              "      <td>0</td>\n",
              "      <td>1</td>\n",
              "      <td>0</td>\n",
              "      <td>3</td>\n",
              "      <td>1</td>\n",
              "      <td>1</td>\n",
              "      <td>0.226957</td>\n",
              "      <td>0.229270</td>\n",
              "      <td>0.436957</td>\n",
              "      <td>0.186900</td>\n",
              "      <td>82</td>\n",
              "      <td>1518</td>\n",
              "      <td>1600</td>\n",
              "    </tr>\n",
              "  </tbody>\n",
              "</table>\n",
              "</div>"
            ],
            "text/plain": [
              "   instant      dteday  season  yr  mnth  holiday  weekday  workingday  \\\n",
              "0        1  2011-01-01       1   0     1        0        6           0   \n",
              "1        2  2011-01-02       1   0     1        0        0           0   \n",
              "2        3  2011-01-03       1   0     1        0        1           1   \n",
              "3        4  2011-01-04       1   0     1        0        2           1   \n",
              "4        5  2011-01-05       1   0     1        0        3           1   \n",
              "\n",
              "   weathersit      temp     atemp       hum  windspeed  casual  registered  \\\n",
              "0           2  0.344167  0.363625  0.805833   0.160446     331         654   \n",
              "1           2  0.363478  0.353739  0.696087   0.248539     131         670   \n",
              "2           1  0.196364  0.189405  0.437273   0.248309     120        1229   \n",
              "3           1  0.200000  0.212122  0.590435   0.160296     108        1454   \n",
              "4           1  0.226957  0.229270  0.436957   0.186900      82        1518   \n",
              "\n",
              "    cnt  \n",
              "0   985  \n",
              "1   801  \n",
              "2  1349  \n",
              "3  1562  \n",
              "4  1600  "
            ]
          },
          "execution_count": 4,
          "metadata": {},
          "output_type": "execute_result"
        }
      ],
      "source": [
        "day_df.head()"
      ]
    },
    {
      "cell_type": "code",
      "execution_count": 5,
      "metadata": {},
      "outputs": [
        {
          "data": {
            "text/plain": [
              "(17379, 17)"
            ]
          },
          "execution_count": 5,
          "metadata": {},
          "output_type": "execute_result"
        }
      ],
      "source": [
        "hour_df = pd.read_csv('dataset/hour.csv')\n",
        "hour_df.shape"
      ]
    },
    {
      "cell_type": "code",
      "execution_count": 6,
      "metadata": {},
      "outputs": [
        {
          "data": {
            "text/html": [
              "<div>\n",
              "<style scoped>\n",
              "    .dataframe tbody tr th:only-of-type {\n",
              "        vertical-align: middle;\n",
              "    }\n",
              "\n",
              "    .dataframe tbody tr th {\n",
              "        vertical-align: top;\n",
              "    }\n",
              "\n",
              "    .dataframe thead th {\n",
              "        text-align: right;\n",
              "    }\n",
              "</style>\n",
              "<table border=\"1\" class=\"dataframe\">\n",
              "  <thead>\n",
              "    <tr style=\"text-align: right;\">\n",
              "      <th></th>\n",
              "      <th>instant</th>\n",
              "      <th>dteday</th>\n",
              "      <th>season</th>\n",
              "      <th>yr</th>\n",
              "      <th>mnth</th>\n",
              "      <th>hr</th>\n",
              "      <th>holiday</th>\n",
              "      <th>weekday</th>\n",
              "      <th>workingday</th>\n",
              "      <th>weathersit</th>\n",
              "      <th>temp</th>\n",
              "      <th>atemp</th>\n",
              "      <th>hum</th>\n",
              "      <th>windspeed</th>\n",
              "      <th>casual</th>\n",
              "      <th>registered</th>\n",
              "      <th>cnt</th>\n",
              "    </tr>\n",
              "  </thead>\n",
              "  <tbody>\n",
              "    <tr>\n",
              "      <th>0</th>\n",
              "      <td>1</td>\n",
              "      <td>2011-01-01</td>\n",
              "      <td>1</td>\n",
              "      <td>0</td>\n",
              "      <td>1</td>\n",
              "      <td>0</td>\n",
              "      <td>0</td>\n",
              "      <td>6</td>\n",
              "      <td>0</td>\n",
              "      <td>1</td>\n",
              "      <td>0.24</td>\n",
              "      <td>0.2879</td>\n",
              "      <td>0.81</td>\n",
              "      <td>0.0</td>\n",
              "      <td>3</td>\n",
              "      <td>13</td>\n",
              "      <td>16</td>\n",
              "    </tr>\n",
              "    <tr>\n",
              "      <th>1</th>\n",
              "      <td>2</td>\n",
              "      <td>2011-01-01</td>\n",
              "      <td>1</td>\n",
              "      <td>0</td>\n",
              "      <td>1</td>\n",
              "      <td>1</td>\n",
              "      <td>0</td>\n",
              "      <td>6</td>\n",
              "      <td>0</td>\n",
              "      <td>1</td>\n",
              "      <td>0.22</td>\n",
              "      <td>0.2727</td>\n",
              "      <td>0.80</td>\n",
              "      <td>0.0</td>\n",
              "      <td>8</td>\n",
              "      <td>32</td>\n",
              "      <td>40</td>\n",
              "    </tr>\n",
              "    <tr>\n",
              "      <th>2</th>\n",
              "      <td>3</td>\n",
              "      <td>2011-01-01</td>\n",
              "      <td>1</td>\n",
              "      <td>0</td>\n",
              "      <td>1</td>\n",
              "      <td>2</td>\n",
              "      <td>0</td>\n",
              "      <td>6</td>\n",
              "      <td>0</td>\n",
              "      <td>1</td>\n",
              "      <td>0.22</td>\n",
              "      <td>0.2727</td>\n",
              "      <td>0.80</td>\n",
              "      <td>0.0</td>\n",
              "      <td>5</td>\n",
              "      <td>27</td>\n",
              "      <td>32</td>\n",
              "    </tr>\n",
              "    <tr>\n",
              "      <th>3</th>\n",
              "      <td>4</td>\n",
              "      <td>2011-01-01</td>\n",
              "      <td>1</td>\n",
              "      <td>0</td>\n",
              "      <td>1</td>\n",
              "      <td>3</td>\n",
              "      <td>0</td>\n",
              "      <td>6</td>\n",
              "      <td>0</td>\n",
              "      <td>1</td>\n",
              "      <td>0.24</td>\n",
              "      <td>0.2879</td>\n",
              "      <td>0.75</td>\n",
              "      <td>0.0</td>\n",
              "      <td>3</td>\n",
              "      <td>10</td>\n",
              "      <td>13</td>\n",
              "    </tr>\n",
              "    <tr>\n",
              "      <th>4</th>\n",
              "      <td>5</td>\n",
              "      <td>2011-01-01</td>\n",
              "      <td>1</td>\n",
              "      <td>0</td>\n",
              "      <td>1</td>\n",
              "      <td>4</td>\n",
              "      <td>0</td>\n",
              "      <td>6</td>\n",
              "      <td>0</td>\n",
              "      <td>1</td>\n",
              "      <td>0.24</td>\n",
              "      <td>0.2879</td>\n",
              "      <td>0.75</td>\n",
              "      <td>0.0</td>\n",
              "      <td>0</td>\n",
              "      <td>1</td>\n",
              "      <td>1</td>\n",
              "    </tr>\n",
              "  </tbody>\n",
              "</table>\n",
              "</div>"
            ],
            "text/plain": [
              "   instant      dteday  season  yr  mnth  hr  holiday  weekday  workingday  \\\n",
              "0        1  2011-01-01       1   0     1   0        0        6           0   \n",
              "1        2  2011-01-01       1   0     1   1        0        6           0   \n",
              "2        3  2011-01-01       1   0     1   2        0        6           0   \n",
              "3        4  2011-01-01       1   0     1   3        0        6           0   \n",
              "4        5  2011-01-01       1   0     1   4        0        6           0   \n",
              "\n",
              "   weathersit  temp   atemp   hum  windspeed  casual  registered  cnt  \n",
              "0           1  0.24  0.2879  0.81        0.0       3          13   16  \n",
              "1           1  0.22  0.2727  0.80        0.0       8          32   40  \n",
              "2           1  0.22  0.2727  0.80        0.0       5          27   32  \n",
              "3           1  0.24  0.2879  0.75        0.0       3          10   13  \n",
              "4           1  0.24  0.2879  0.75        0.0       0           1    1  "
            ]
          },
          "execution_count": 6,
          "metadata": {},
          "output_type": "execute_result"
        }
      ],
      "source": [
        "hour_df.head()"
      ]
    },
    {
      "cell_type": "markdown",
      "metadata": {
        "id": "MMi6xGaDkbCi"
      },
      "source": [
        "**Insight:**\n",
        "- Dataset terdiri dari data harian (731 records) dan jam-an (17,379 records)\n",
        "- Data sudah cukup lengkap dengan berbagai variabel cuaca dan kategorikal"
      ]
    },
    {
      "cell_type": "markdown",
      "metadata": {
        "id": "FHSiqaZp8DC1"
      },
      "source": [
        "### Assessing Data"
      ]
    },
    {
      "cell_type": "markdown",
      "metadata": {},
      "source": [
        "#### Info Dataset"
      ]
    },
    {
      "cell_type": "code",
      "execution_count": 7,
      "metadata": {
        "id": "ax-3tEjc9Cj1"
      },
      "outputs": [
        {
          "name": "stdout",
          "output_type": "stream",
          "text": [
            "<class 'pandas.core.frame.DataFrame'>\n",
            "RangeIndex: 731 entries, 0 to 730\n",
            "Data columns (total 16 columns):\n",
            " #   Column      Non-Null Count  Dtype  \n",
            "---  ------      --------------  -----  \n",
            " 0   instant     731 non-null    int64  \n",
            " 1   dteday      731 non-null    object \n",
            " 2   season      731 non-null    int64  \n",
            " 3   yr          731 non-null    int64  \n",
            " 4   mnth        731 non-null    int64  \n",
            " 5   holiday     731 non-null    int64  \n",
            " 6   weekday     731 non-null    int64  \n",
            " 7   workingday  731 non-null    int64  \n",
            " 8   weathersit  731 non-null    int64  \n",
            " 9   temp        731 non-null    float64\n",
            " 10  atemp       731 non-null    float64\n",
            " 11  hum         731 non-null    float64\n",
            " 12  windspeed   731 non-null    float64\n",
            " 13  casual      731 non-null    int64  \n",
            " 14  registered  731 non-null    int64  \n",
            " 15  cnt         731 non-null    int64  \n",
            "dtypes: float64(4), int64(11), object(1)\n",
            "memory usage: 91.5+ KB\n"
          ]
        }
      ],
      "source": [
        "day_df.info()"
      ]
    },
    {
      "cell_type": "code",
      "execution_count": 8,
      "metadata": {},
      "outputs": [
        {
          "name": "stdout",
          "output_type": "stream",
          "text": [
            "<class 'pandas.core.frame.DataFrame'>\n",
            "RangeIndex: 17379 entries, 0 to 17378\n",
            "Data columns (total 17 columns):\n",
            " #   Column      Non-Null Count  Dtype  \n",
            "---  ------      --------------  -----  \n",
            " 0   instant     17379 non-null  int64  \n",
            " 1   dteday      17379 non-null  object \n",
            " 2   season      17379 non-null  int64  \n",
            " 3   yr          17379 non-null  int64  \n",
            " 4   mnth        17379 non-null  int64  \n",
            " 5   hr          17379 non-null  int64  \n",
            " 6   holiday     17379 non-null  int64  \n",
            " 7   weekday     17379 non-null  int64  \n",
            " 8   workingday  17379 non-null  int64  \n",
            " 9   weathersit  17379 non-null  int64  \n",
            " 10  temp        17379 non-null  float64\n",
            " 11  atemp       17379 non-null  float64\n",
            " 12  hum         17379 non-null  float64\n",
            " 13  windspeed   17379 non-null  float64\n",
            " 14  casual      17379 non-null  int64  \n",
            " 15  registered  17379 non-null  int64  \n",
            " 16  cnt         17379 non-null  int64  \n",
            "dtypes: float64(4), int64(12), object(1)\n",
            "memory usage: 2.3+ MB\n"
          ]
        }
      ],
      "source": [
        "hour_df.info()"
      ]
    },
    {
      "cell_type": "markdown",
      "metadata": {},
      "source": [
        "#### Cek Missing Values & Duplikasi"
      ]
    },
    {
      "cell_type": "code",
      "execution_count": 9,
      "metadata": {},
      "outputs": [
        {
          "name": "stdout",
          "output_type": "stream",
          "text": [
            "missing values in day_df: 0\n",
            "missing values in hour_df: 0\n"
          ]
        }
      ],
      "source": [
        "# Missing values\n",
        "print(\"missing values in day_df:\", day_df.isnull().sum().sum())\n",
        "print(\"missing values in hour_df:\", hour_df.isnull().sum().sum())"
      ]
    },
    {
      "cell_type": "code",
      "execution_count": 10,
      "metadata": {},
      "outputs": [
        {
          "name": "stdout",
          "output_type": "stream",
          "text": [
            "duplicates in day_df: 0\n",
            "duplicates in hour_df: 0\n"
          ]
        }
      ],
      "source": [
        "# Checking duplicates\n",
        "print(\"duplicates in day_df:\", day_df.duplicated().sum())\n",
        "print(\"duplicates in hour_df:\", hour_df.duplicated().sum())"
      ]
    },
    {
      "cell_type": "markdown",
      "metadata": {},
      "source": [
        "#### Deskripsi statistik"
      ]
    },
    {
      "cell_type": "code",
      "execution_count": 11,
      "metadata": {},
      "outputs": [
        {
          "data": {
            "text/html": [
              "<div>\n",
              "<style scoped>\n",
              "    .dataframe tbody tr th:only-of-type {\n",
              "        vertical-align: middle;\n",
              "    }\n",
              "\n",
              "    .dataframe tbody tr th {\n",
              "        vertical-align: top;\n",
              "    }\n",
              "\n",
              "    .dataframe thead th {\n",
              "        text-align: right;\n",
              "    }\n",
              "</style>\n",
              "<table border=\"1\" class=\"dataframe\">\n",
              "  <thead>\n",
              "    <tr style=\"text-align: right;\">\n",
              "      <th></th>\n",
              "      <th>instant</th>\n",
              "      <th>season</th>\n",
              "      <th>yr</th>\n",
              "      <th>mnth</th>\n",
              "      <th>holiday</th>\n",
              "      <th>weekday</th>\n",
              "      <th>workingday</th>\n",
              "      <th>weathersit</th>\n",
              "      <th>temp</th>\n",
              "      <th>atemp</th>\n",
              "      <th>hum</th>\n",
              "      <th>windspeed</th>\n",
              "      <th>casual</th>\n",
              "      <th>registered</th>\n",
              "      <th>cnt</th>\n",
              "    </tr>\n",
              "  </thead>\n",
              "  <tbody>\n",
              "    <tr>\n",
              "      <th>count</th>\n",
              "      <td>731.000000</td>\n",
              "      <td>731.000000</td>\n",
              "      <td>731.000000</td>\n",
              "      <td>731.000000</td>\n",
              "      <td>731.000000</td>\n",
              "      <td>731.000000</td>\n",
              "      <td>731.000000</td>\n",
              "      <td>731.000000</td>\n",
              "      <td>731.000000</td>\n",
              "      <td>731.000000</td>\n",
              "      <td>731.000000</td>\n",
              "      <td>731.000000</td>\n",
              "      <td>731.000000</td>\n",
              "      <td>731.000000</td>\n",
              "      <td>731.000000</td>\n",
              "    </tr>\n",
              "    <tr>\n",
              "      <th>mean</th>\n",
              "      <td>366.000000</td>\n",
              "      <td>2.496580</td>\n",
              "      <td>0.500684</td>\n",
              "      <td>6.519836</td>\n",
              "      <td>0.028728</td>\n",
              "      <td>2.997264</td>\n",
              "      <td>0.683995</td>\n",
              "      <td>1.395349</td>\n",
              "      <td>0.495385</td>\n",
              "      <td>0.474354</td>\n",
              "      <td>0.627894</td>\n",
              "      <td>0.190486</td>\n",
              "      <td>848.176471</td>\n",
              "      <td>3656.172367</td>\n",
              "      <td>4504.348837</td>\n",
              "    </tr>\n",
              "    <tr>\n",
              "      <th>std</th>\n",
              "      <td>211.165812</td>\n",
              "      <td>1.110807</td>\n",
              "      <td>0.500342</td>\n",
              "      <td>3.451913</td>\n",
              "      <td>0.167155</td>\n",
              "      <td>2.004787</td>\n",
              "      <td>0.465233</td>\n",
              "      <td>0.544894</td>\n",
              "      <td>0.183051</td>\n",
              "      <td>0.162961</td>\n",
              "      <td>0.142429</td>\n",
              "      <td>0.077498</td>\n",
              "      <td>686.622488</td>\n",
              "      <td>1560.256377</td>\n",
              "      <td>1937.211452</td>\n",
              "    </tr>\n",
              "    <tr>\n",
              "      <th>min</th>\n",
              "      <td>1.000000</td>\n",
              "      <td>1.000000</td>\n",
              "      <td>0.000000</td>\n",
              "      <td>1.000000</td>\n",
              "      <td>0.000000</td>\n",
              "      <td>0.000000</td>\n",
              "      <td>0.000000</td>\n",
              "      <td>1.000000</td>\n",
              "      <td>0.059130</td>\n",
              "      <td>0.079070</td>\n",
              "      <td>0.000000</td>\n",
              "      <td>0.022392</td>\n",
              "      <td>2.000000</td>\n",
              "      <td>20.000000</td>\n",
              "      <td>22.000000</td>\n",
              "    </tr>\n",
              "    <tr>\n",
              "      <th>25%</th>\n",
              "      <td>183.500000</td>\n",
              "      <td>2.000000</td>\n",
              "      <td>0.000000</td>\n",
              "      <td>4.000000</td>\n",
              "      <td>0.000000</td>\n",
              "      <td>1.000000</td>\n",
              "      <td>0.000000</td>\n",
              "      <td>1.000000</td>\n",
              "      <td>0.337083</td>\n",
              "      <td>0.337842</td>\n",
              "      <td>0.520000</td>\n",
              "      <td>0.134950</td>\n",
              "      <td>315.500000</td>\n",
              "      <td>2497.000000</td>\n",
              "      <td>3152.000000</td>\n",
              "    </tr>\n",
              "    <tr>\n",
              "      <th>50%</th>\n",
              "      <td>366.000000</td>\n",
              "      <td>3.000000</td>\n",
              "      <td>1.000000</td>\n",
              "      <td>7.000000</td>\n",
              "      <td>0.000000</td>\n",
              "      <td>3.000000</td>\n",
              "      <td>1.000000</td>\n",
              "      <td>1.000000</td>\n",
              "      <td>0.498333</td>\n",
              "      <td>0.486733</td>\n",
              "      <td>0.626667</td>\n",
              "      <td>0.180975</td>\n",
              "      <td>713.000000</td>\n",
              "      <td>3662.000000</td>\n",
              "      <td>4548.000000</td>\n",
              "    </tr>\n",
              "    <tr>\n",
              "      <th>75%</th>\n",
              "      <td>548.500000</td>\n",
              "      <td>3.000000</td>\n",
              "      <td>1.000000</td>\n",
              "      <td>10.000000</td>\n",
              "      <td>0.000000</td>\n",
              "      <td>5.000000</td>\n",
              "      <td>1.000000</td>\n",
              "      <td>2.000000</td>\n",
              "      <td>0.655417</td>\n",
              "      <td>0.608602</td>\n",
              "      <td>0.730209</td>\n",
              "      <td>0.233214</td>\n",
              "      <td>1096.000000</td>\n",
              "      <td>4776.500000</td>\n",
              "      <td>5956.000000</td>\n",
              "    </tr>\n",
              "    <tr>\n",
              "      <th>max</th>\n",
              "      <td>731.000000</td>\n",
              "      <td>4.000000</td>\n",
              "      <td>1.000000</td>\n",
              "      <td>12.000000</td>\n",
              "      <td>1.000000</td>\n",
              "      <td>6.000000</td>\n",
              "      <td>1.000000</td>\n",
              "      <td>3.000000</td>\n",
              "      <td>0.861667</td>\n",
              "      <td>0.840896</td>\n",
              "      <td>0.972500</td>\n",
              "      <td>0.507463</td>\n",
              "      <td>3410.000000</td>\n",
              "      <td>6946.000000</td>\n",
              "      <td>8714.000000</td>\n",
              "    </tr>\n",
              "  </tbody>\n",
              "</table>\n",
              "</div>"
            ],
            "text/plain": [
              "          instant      season          yr        mnth     holiday     weekday  \\\n",
              "count  731.000000  731.000000  731.000000  731.000000  731.000000  731.000000   \n",
              "mean   366.000000    2.496580    0.500684    6.519836    0.028728    2.997264   \n",
              "std    211.165812    1.110807    0.500342    3.451913    0.167155    2.004787   \n",
              "min      1.000000    1.000000    0.000000    1.000000    0.000000    0.000000   \n",
              "25%    183.500000    2.000000    0.000000    4.000000    0.000000    1.000000   \n",
              "50%    366.000000    3.000000    1.000000    7.000000    0.000000    3.000000   \n",
              "75%    548.500000    3.000000    1.000000   10.000000    0.000000    5.000000   \n",
              "max    731.000000    4.000000    1.000000   12.000000    1.000000    6.000000   \n",
              "\n",
              "       workingday  weathersit        temp       atemp         hum   windspeed  \\\n",
              "count  731.000000  731.000000  731.000000  731.000000  731.000000  731.000000   \n",
              "mean     0.683995    1.395349    0.495385    0.474354    0.627894    0.190486   \n",
              "std      0.465233    0.544894    0.183051    0.162961    0.142429    0.077498   \n",
              "min      0.000000    1.000000    0.059130    0.079070    0.000000    0.022392   \n",
              "25%      0.000000    1.000000    0.337083    0.337842    0.520000    0.134950   \n",
              "50%      1.000000    1.000000    0.498333    0.486733    0.626667    0.180975   \n",
              "75%      1.000000    2.000000    0.655417    0.608602    0.730209    0.233214   \n",
              "max      1.000000    3.000000    0.861667    0.840896    0.972500    0.507463   \n",
              "\n",
              "            casual   registered          cnt  \n",
              "count   731.000000   731.000000   731.000000  \n",
              "mean    848.176471  3656.172367  4504.348837  \n",
              "std     686.622488  1560.256377  1937.211452  \n",
              "min       2.000000    20.000000    22.000000  \n",
              "25%     315.500000  2497.000000  3152.000000  \n",
              "50%     713.000000  3662.000000  4548.000000  \n",
              "75%    1096.000000  4776.500000  5956.000000  \n",
              "max    3410.000000  6946.000000  8714.000000  "
            ]
          },
          "execution_count": 11,
          "metadata": {},
          "output_type": "execute_result"
        }
      ],
      "source": [
        "day_df.describe()"
      ]
    },
    {
      "cell_type": "code",
      "execution_count": 12,
      "metadata": {},
      "outputs": [
        {
          "data": {
            "text/html": [
              "<div>\n",
              "<style scoped>\n",
              "    .dataframe tbody tr th:only-of-type {\n",
              "        vertical-align: middle;\n",
              "    }\n",
              "\n",
              "    .dataframe tbody tr th {\n",
              "        vertical-align: top;\n",
              "    }\n",
              "\n",
              "    .dataframe thead th {\n",
              "        text-align: right;\n",
              "    }\n",
              "</style>\n",
              "<table border=\"1\" class=\"dataframe\">\n",
              "  <thead>\n",
              "    <tr style=\"text-align: right;\">\n",
              "      <th></th>\n",
              "      <th>instant</th>\n",
              "      <th>season</th>\n",
              "      <th>yr</th>\n",
              "      <th>mnth</th>\n",
              "      <th>hr</th>\n",
              "      <th>holiday</th>\n",
              "      <th>weekday</th>\n",
              "      <th>workingday</th>\n",
              "      <th>weathersit</th>\n",
              "      <th>temp</th>\n",
              "      <th>atemp</th>\n",
              "      <th>hum</th>\n",
              "      <th>windspeed</th>\n",
              "      <th>casual</th>\n",
              "      <th>registered</th>\n",
              "      <th>cnt</th>\n",
              "    </tr>\n",
              "  </thead>\n",
              "  <tbody>\n",
              "    <tr>\n",
              "      <th>count</th>\n",
              "      <td>17379.0000</td>\n",
              "      <td>17379.000000</td>\n",
              "      <td>17379.000000</td>\n",
              "      <td>17379.000000</td>\n",
              "      <td>17379.000000</td>\n",
              "      <td>17379.000000</td>\n",
              "      <td>17379.000000</td>\n",
              "      <td>17379.000000</td>\n",
              "      <td>17379.000000</td>\n",
              "      <td>17379.000000</td>\n",
              "      <td>17379.000000</td>\n",
              "      <td>17379.000000</td>\n",
              "      <td>17379.000000</td>\n",
              "      <td>17379.000000</td>\n",
              "      <td>17379.000000</td>\n",
              "      <td>17379.000000</td>\n",
              "    </tr>\n",
              "    <tr>\n",
              "      <th>mean</th>\n",
              "      <td>8690.0000</td>\n",
              "      <td>2.501640</td>\n",
              "      <td>0.502561</td>\n",
              "      <td>6.537775</td>\n",
              "      <td>11.546752</td>\n",
              "      <td>0.028770</td>\n",
              "      <td>3.003683</td>\n",
              "      <td>0.682721</td>\n",
              "      <td>1.425283</td>\n",
              "      <td>0.496987</td>\n",
              "      <td>0.475775</td>\n",
              "      <td>0.627229</td>\n",
              "      <td>0.190098</td>\n",
              "      <td>35.676218</td>\n",
              "      <td>153.786869</td>\n",
              "      <td>189.463088</td>\n",
              "    </tr>\n",
              "    <tr>\n",
              "      <th>std</th>\n",
              "      <td>5017.0295</td>\n",
              "      <td>1.106918</td>\n",
              "      <td>0.500008</td>\n",
              "      <td>3.438776</td>\n",
              "      <td>6.914405</td>\n",
              "      <td>0.167165</td>\n",
              "      <td>2.005771</td>\n",
              "      <td>0.465431</td>\n",
              "      <td>0.639357</td>\n",
              "      <td>0.192556</td>\n",
              "      <td>0.171850</td>\n",
              "      <td>0.192930</td>\n",
              "      <td>0.122340</td>\n",
              "      <td>49.305030</td>\n",
              "      <td>151.357286</td>\n",
              "      <td>181.387599</td>\n",
              "    </tr>\n",
              "    <tr>\n",
              "      <th>min</th>\n",
              "      <td>1.0000</td>\n",
              "      <td>1.000000</td>\n",
              "      <td>0.000000</td>\n",
              "      <td>1.000000</td>\n",
              "      <td>0.000000</td>\n",
              "      <td>0.000000</td>\n",
              "      <td>0.000000</td>\n",
              "      <td>0.000000</td>\n",
              "      <td>1.000000</td>\n",
              "      <td>0.020000</td>\n",
              "      <td>0.000000</td>\n",
              "      <td>0.000000</td>\n",
              "      <td>0.000000</td>\n",
              "      <td>0.000000</td>\n",
              "      <td>0.000000</td>\n",
              "      <td>1.000000</td>\n",
              "    </tr>\n",
              "    <tr>\n",
              "      <th>25%</th>\n",
              "      <td>4345.5000</td>\n",
              "      <td>2.000000</td>\n",
              "      <td>0.000000</td>\n",
              "      <td>4.000000</td>\n",
              "      <td>6.000000</td>\n",
              "      <td>0.000000</td>\n",
              "      <td>1.000000</td>\n",
              "      <td>0.000000</td>\n",
              "      <td>1.000000</td>\n",
              "      <td>0.340000</td>\n",
              "      <td>0.333300</td>\n",
              "      <td>0.480000</td>\n",
              "      <td>0.104500</td>\n",
              "      <td>4.000000</td>\n",
              "      <td>34.000000</td>\n",
              "      <td>40.000000</td>\n",
              "    </tr>\n",
              "    <tr>\n",
              "      <th>50%</th>\n",
              "      <td>8690.0000</td>\n",
              "      <td>3.000000</td>\n",
              "      <td>1.000000</td>\n",
              "      <td>7.000000</td>\n",
              "      <td>12.000000</td>\n",
              "      <td>0.000000</td>\n",
              "      <td>3.000000</td>\n",
              "      <td>1.000000</td>\n",
              "      <td>1.000000</td>\n",
              "      <td>0.500000</td>\n",
              "      <td>0.484800</td>\n",
              "      <td>0.630000</td>\n",
              "      <td>0.194000</td>\n",
              "      <td>17.000000</td>\n",
              "      <td>115.000000</td>\n",
              "      <td>142.000000</td>\n",
              "    </tr>\n",
              "    <tr>\n",
              "      <th>75%</th>\n",
              "      <td>13034.5000</td>\n",
              "      <td>3.000000</td>\n",
              "      <td>1.000000</td>\n",
              "      <td>10.000000</td>\n",
              "      <td>18.000000</td>\n",
              "      <td>0.000000</td>\n",
              "      <td>5.000000</td>\n",
              "      <td>1.000000</td>\n",
              "      <td>2.000000</td>\n",
              "      <td>0.660000</td>\n",
              "      <td>0.621200</td>\n",
              "      <td>0.780000</td>\n",
              "      <td>0.253700</td>\n",
              "      <td>48.000000</td>\n",
              "      <td>220.000000</td>\n",
              "      <td>281.000000</td>\n",
              "    </tr>\n",
              "    <tr>\n",
              "      <th>max</th>\n",
              "      <td>17379.0000</td>\n",
              "      <td>4.000000</td>\n",
              "      <td>1.000000</td>\n",
              "      <td>12.000000</td>\n",
              "      <td>23.000000</td>\n",
              "      <td>1.000000</td>\n",
              "      <td>6.000000</td>\n",
              "      <td>1.000000</td>\n",
              "      <td>4.000000</td>\n",
              "      <td>1.000000</td>\n",
              "      <td>1.000000</td>\n",
              "      <td>1.000000</td>\n",
              "      <td>0.850700</td>\n",
              "      <td>367.000000</td>\n",
              "      <td>886.000000</td>\n",
              "      <td>977.000000</td>\n",
              "    </tr>\n",
              "  </tbody>\n",
              "</table>\n",
              "</div>"
            ],
            "text/plain": [
              "          instant        season            yr          mnth            hr  \\\n",
              "count  17379.0000  17379.000000  17379.000000  17379.000000  17379.000000   \n",
              "mean    8690.0000      2.501640      0.502561      6.537775     11.546752   \n",
              "std     5017.0295      1.106918      0.500008      3.438776      6.914405   \n",
              "min        1.0000      1.000000      0.000000      1.000000      0.000000   \n",
              "25%     4345.5000      2.000000      0.000000      4.000000      6.000000   \n",
              "50%     8690.0000      3.000000      1.000000      7.000000     12.000000   \n",
              "75%    13034.5000      3.000000      1.000000     10.000000     18.000000   \n",
              "max    17379.0000      4.000000      1.000000     12.000000     23.000000   \n",
              "\n",
              "            holiday       weekday    workingday    weathersit          temp  \\\n",
              "count  17379.000000  17379.000000  17379.000000  17379.000000  17379.000000   \n",
              "mean       0.028770      3.003683      0.682721      1.425283      0.496987   \n",
              "std        0.167165      2.005771      0.465431      0.639357      0.192556   \n",
              "min        0.000000      0.000000      0.000000      1.000000      0.020000   \n",
              "25%        0.000000      1.000000      0.000000      1.000000      0.340000   \n",
              "50%        0.000000      3.000000      1.000000      1.000000      0.500000   \n",
              "75%        0.000000      5.000000      1.000000      2.000000      0.660000   \n",
              "max        1.000000      6.000000      1.000000      4.000000      1.000000   \n",
              "\n",
              "              atemp           hum     windspeed        casual    registered  \\\n",
              "count  17379.000000  17379.000000  17379.000000  17379.000000  17379.000000   \n",
              "mean       0.475775      0.627229      0.190098     35.676218    153.786869   \n",
              "std        0.171850      0.192930      0.122340     49.305030    151.357286   \n",
              "min        0.000000      0.000000      0.000000      0.000000      0.000000   \n",
              "25%        0.333300      0.480000      0.104500      4.000000     34.000000   \n",
              "50%        0.484800      0.630000      0.194000     17.000000    115.000000   \n",
              "75%        0.621200      0.780000      0.253700     48.000000    220.000000   \n",
              "max        1.000000      1.000000      0.850700    367.000000    886.000000   \n",
              "\n",
              "                cnt  \n",
              "count  17379.000000  \n",
              "mean     189.463088  \n",
              "std      181.387599  \n",
              "min        1.000000  \n",
              "25%       40.000000  \n",
              "50%      142.000000  \n",
              "75%      281.000000  \n",
              "max      977.000000  "
            ]
          },
          "execution_count": 12,
          "metadata": {},
          "output_type": "execute_result"
        }
      ],
      "source": [
        "hour_df.describe()"
      ]
    },
    {
      "cell_type": "markdown",
      "metadata": {
        "id": "7dtxhAPrkhPL"
      },
      "source": [
        "**Insight:**\n",
        "- Tidak ada missing values dan duplikasi pada kedua dataset\n",
        "- Semua nilai numerik berada dalam range yang wajar\n",
        "- Variabel numerik (temp, atemp, hum, windspeed) sudah dalam bentuk normalized (0-1)\n",
        "- Rata-rata penyewaan harian: ~4,504 sepeda, dengan variasi yang cukup besar (std: 1,937)"
      ]
    },
    {
      "cell_type": "markdown",
      "metadata": {
        "id": "EhN5R4hr8DC1"
      },
      "source": [
        "### Cleaning Data"
      ]
    },
    {
      "cell_type": "code",
      "execution_count": 13,
      "metadata": {},
      "outputs": [],
      "source": [
        "# Rename columns untuk readability\n",
        "day_df = day_df.rename(columns={\n",
        "    'dteday': 'date',\n",
        "    'season': 'season',\n",
        "    'yr': 'year',\n",
        "    'mnth': 'month',\n",
        "    'holiday': 'is_holiday',\n",
        "    'weekday': 'weekday',\n",
        "    'workingday': 'is_workingday',\n",
        "    'weathersit': 'weather_situation',\n",
        "    'temp': 'temperature',\n",
        "    'atemp': 'feels_temperature',\n",
        "    'hum': 'humidity',\n",
        "    'windspeed': 'wind_speed',\n",
        "    'casual': 'casual_users',\n",
        "    'registered': 'registered_users',\n",
        "    'cnt': 'total_count'\n",
        "})\n",
        "\n",
        "hour_df = hour_df.rename(columns={\n",
        "    'dteday': 'date',\n",
        "    'season': 'season',\n",
        "    'yr': 'year',\n",
        "    'mnth': 'month',\n",
        "    'hr': 'hour',\n",
        "    'holiday': 'is_holiday',\n",
        "    'weekday': 'weekday',\n",
        "    'workingday': 'is_workingday',\n",
        "    'weathersit': 'weather_situation',\n",
        "    'temp': 'temperature',\n",
        "    'atemp': 'feels_temperature',\n",
        "    'hum': 'humidity',\n",
        "    'windspeed': 'wind_speed',\n",
        "    'casual': 'casual_users',\n",
        "    'registered': 'registered_users',\n",
        "    'cnt': 'total_count'\n",
        "})\n"
      ]
    },
    {
      "cell_type": "code",
      "execution_count": 14,
      "metadata": {
        "id": "jVnYpprE9Evz"
      },
      "outputs": [],
      "source": [
        "# Convert date to datetime\n",
        "day_df['date'] = pd.to_datetime(day_df['date'])\n",
        "hour_df['date'] = pd.to_datetime(hour_df['date'])\n",
        "\n",
        "# Convert categorical columns\n",
        "cat_cols_day = ['season','year','month','is_holiday','weekday','is_workingday','weather_situation']\n",
        "cat_cols_hour = ['season','year','month','hour','is_holiday','weekday','is_workingday','weather_situation']\n",
        "\n",
        "day_df[cat_cols_day] = day_df[cat_cols_day].astype('category')\n",
        "hour_df[cat_cols_hour] = hour_df[cat_cols_hour].astype('category')\n"
      ]
    },
    {
      "cell_type": "code",
      "execution_count": 15,
      "metadata": {},
      "outputs": [],
      "source": [
        "# Mapping\n",
        "season_mapping = {1: 'Spring', 2: 'Summer', 3: 'Fall', 4: 'Winter'}\n",
        "yr_mapping = {0: '2011', 1: '2012'}\n",
        "mnth_mapping = {1: 'Jan', 2: 'Feb', 3: 'Mar', 4: 'Apr', 5: 'May', 6: 'Jun',\n",
        "                7: 'Jul', 8: 'Aug', 9: 'Sep', 10: 'Oct', 11: 'Nov', 12: 'Dec'}\n",
        "weekday_mapping = {0: 'Sunday', 1: 'Monday', 2: 'Tuesday', 3: 'Wednesday', \n",
        "                   4: 'Thursday', 5: 'Friday', 6: 'Saturday'}\n",
        "weathersit_mapping = {\n",
        "    1: 'Clear/Partly Cloudy',\n",
        "    2: 'Mist/Cloudy',\n",
        "    3: 'Light Snow/Light Rain',\n",
        "    4: 'Severe Weather'\n",
        "}\n",
        "holiday_mapping = {0: 'No Holiday', 1: 'Holiday'}\n",
        "workingday_mapping = {0: 'No', 1: 'Yes'}"
      ]
    },
    {
      "cell_type": "code",
      "execution_count": 16,
      "metadata": {},
      "outputs": [
        {
          "data": {
            "text/plain": [
              "(731, 16)"
            ]
          },
          "execution_count": 16,
          "metadata": {},
          "output_type": "execute_result"
        }
      ],
      "source": [
        "day_df['season'] = day_df['season'].map(season_mapping)\n",
        "day_df['year'] = day_df['year'].map(yr_mapping)\n",
        "day_df['month'] = day_df['month'].map(mnth_mapping)\n",
        "day_df['weekday'] = day_df['weekday'].map(weekday_mapping)\n",
        "day_df['weather_situation'] = day_df['weather_situation'].map(weathersit_mapping)\n",
        "day_df['is_holiday'] = day_df['is_holiday'].map(holiday_mapping)\n",
        "day_df['is_workingday'] = day_df['is_workingday'].map(workingday_mapping)\n",
        "day_df.shape"
      ]
    },
    {
      "cell_type": "code",
      "execution_count": 17,
      "metadata": {},
      "outputs": [
        {
          "data": {
            "text/html": [
              "<div>\n",
              "<style scoped>\n",
              "    .dataframe tbody tr th:only-of-type {\n",
              "        vertical-align: middle;\n",
              "    }\n",
              "\n",
              "    .dataframe tbody tr th {\n",
              "        vertical-align: top;\n",
              "    }\n",
              "\n",
              "    .dataframe thead th {\n",
              "        text-align: right;\n",
              "    }\n",
              "</style>\n",
              "<table border=\"1\" class=\"dataframe\">\n",
              "  <thead>\n",
              "    <tr style=\"text-align: right;\">\n",
              "      <th></th>\n",
              "      <th>instant</th>\n",
              "      <th>date</th>\n",
              "      <th>season</th>\n",
              "      <th>year</th>\n",
              "      <th>month</th>\n",
              "      <th>is_holiday</th>\n",
              "      <th>weekday</th>\n",
              "      <th>is_workingday</th>\n",
              "      <th>weather_situation</th>\n",
              "      <th>temperature</th>\n",
              "      <th>feels_temperature</th>\n",
              "      <th>humidity</th>\n",
              "      <th>wind_speed</th>\n",
              "      <th>casual_users</th>\n",
              "      <th>registered_users</th>\n",
              "      <th>total_count</th>\n",
              "    </tr>\n",
              "  </thead>\n",
              "  <tbody>\n",
              "    <tr>\n",
              "      <th>0</th>\n",
              "      <td>1</td>\n",
              "      <td>2011-01-01</td>\n",
              "      <td>Spring</td>\n",
              "      <td>2011</td>\n",
              "      <td>Jan</td>\n",
              "      <td>No Holiday</td>\n",
              "      <td>Saturday</td>\n",
              "      <td>No</td>\n",
              "      <td>Mist/Cloudy</td>\n",
              "      <td>0.344167</td>\n",
              "      <td>0.363625</td>\n",
              "      <td>0.805833</td>\n",
              "      <td>0.160446</td>\n",
              "      <td>331</td>\n",
              "      <td>654</td>\n",
              "      <td>985</td>\n",
              "    </tr>\n",
              "    <tr>\n",
              "      <th>1</th>\n",
              "      <td>2</td>\n",
              "      <td>2011-01-02</td>\n",
              "      <td>Spring</td>\n",
              "      <td>2011</td>\n",
              "      <td>Jan</td>\n",
              "      <td>No Holiday</td>\n",
              "      <td>Sunday</td>\n",
              "      <td>No</td>\n",
              "      <td>Mist/Cloudy</td>\n",
              "      <td>0.363478</td>\n",
              "      <td>0.353739</td>\n",
              "      <td>0.696087</td>\n",
              "      <td>0.248539</td>\n",
              "      <td>131</td>\n",
              "      <td>670</td>\n",
              "      <td>801</td>\n",
              "    </tr>\n",
              "    <tr>\n",
              "      <th>2</th>\n",
              "      <td>3</td>\n",
              "      <td>2011-01-03</td>\n",
              "      <td>Spring</td>\n",
              "      <td>2011</td>\n",
              "      <td>Jan</td>\n",
              "      <td>No Holiday</td>\n",
              "      <td>Monday</td>\n",
              "      <td>Yes</td>\n",
              "      <td>Clear/Partly Cloudy</td>\n",
              "      <td>0.196364</td>\n",
              "      <td>0.189405</td>\n",
              "      <td>0.437273</td>\n",
              "      <td>0.248309</td>\n",
              "      <td>120</td>\n",
              "      <td>1229</td>\n",
              "      <td>1349</td>\n",
              "    </tr>\n",
              "    <tr>\n",
              "      <th>3</th>\n",
              "      <td>4</td>\n",
              "      <td>2011-01-04</td>\n",
              "      <td>Spring</td>\n",
              "      <td>2011</td>\n",
              "      <td>Jan</td>\n",
              "      <td>No Holiday</td>\n",
              "      <td>Tuesday</td>\n",
              "      <td>Yes</td>\n",
              "      <td>Clear/Partly Cloudy</td>\n",
              "      <td>0.200000</td>\n",
              "      <td>0.212122</td>\n",
              "      <td>0.590435</td>\n",
              "      <td>0.160296</td>\n",
              "      <td>108</td>\n",
              "      <td>1454</td>\n",
              "      <td>1562</td>\n",
              "    </tr>\n",
              "    <tr>\n",
              "      <th>4</th>\n",
              "      <td>5</td>\n",
              "      <td>2011-01-05</td>\n",
              "      <td>Spring</td>\n",
              "      <td>2011</td>\n",
              "      <td>Jan</td>\n",
              "      <td>No Holiday</td>\n",
              "      <td>Wednesday</td>\n",
              "      <td>Yes</td>\n",
              "      <td>Clear/Partly Cloudy</td>\n",
              "      <td>0.226957</td>\n",
              "      <td>0.229270</td>\n",
              "      <td>0.436957</td>\n",
              "      <td>0.186900</td>\n",
              "      <td>82</td>\n",
              "      <td>1518</td>\n",
              "      <td>1600</td>\n",
              "    </tr>\n",
              "  </tbody>\n",
              "</table>\n",
              "</div>"
            ],
            "text/plain": [
              "   instant       date  season  year month  is_holiday    weekday  \\\n",
              "0        1 2011-01-01  Spring  2011   Jan  No Holiday   Saturday   \n",
              "1        2 2011-01-02  Spring  2011   Jan  No Holiday     Sunday   \n",
              "2        3 2011-01-03  Spring  2011   Jan  No Holiday     Monday   \n",
              "3        4 2011-01-04  Spring  2011   Jan  No Holiday    Tuesday   \n",
              "4        5 2011-01-05  Spring  2011   Jan  No Holiday  Wednesday   \n",
              "\n",
              "  is_workingday    weather_situation  temperature  feels_temperature  \\\n",
              "0            No          Mist/Cloudy     0.344167           0.363625   \n",
              "1            No          Mist/Cloudy     0.363478           0.353739   \n",
              "2           Yes  Clear/Partly Cloudy     0.196364           0.189405   \n",
              "3           Yes  Clear/Partly Cloudy     0.200000           0.212122   \n",
              "4           Yes  Clear/Partly Cloudy     0.226957           0.229270   \n",
              "\n",
              "   humidity  wind_speed  casual_users  registered_users  total_count  \n",
              "0  0.805833    0.160446           331               654          985  \n",
              "1  0.696087    0.248539           131               670          801  \n",
              "2  0.437273    0.248309           120              1229         1349  \n",
              "3  0.590435    0.160296           108              1454         1562  \n",
              "4  0.436957    0.186900            82              1518         1600  "
            ]
          },
          "execution_count": 17,
          "metadata": {},
          "output_type": "execute_result"
        }
      ],
      "source": [
        "day_df.head()"
      ]
    },
    {
      "cell_type": "code",
      "execution_count": 18,
      "metadata": {},
      "outputs": [
        {
          "data": {
            "text/plain": [
              "(17379, 17)"
            ]
          },
          "execution_count": 18,
          "metadata": {},
          "output_type": "execute_result"
        }
      ],
      "source": [
        "hour_df['season'] = hour_df['season'].map(season_mapping)\n",
        "hour_df['year'] = hour_df['year'].map(yr_mapping)\n",
        "hour_df['month'] = hour_df['month'].map(mnth_mapping)\n",
        "hour_df['weekday'] = hour_df['weekday'].map(weekday_mapping)\n",
        "hour_df['weather_situation'] = hour_df['weather_situation'].map(weathersit_mapping)\n",
        "hour_df['is_holiday'] = hour_df['is_holiday'].map(holiday_mapping)\n",
        "hour_df['is_workingday'] = hour_df['is_workingday'].map(workingday_mapping)\n",
        "hour_df.shape"
      ]
    },
    {
      "cell_type": "code",
      "execution_count": 19,
      "metadata": {},
      "outputs": [
        {
          "data": {
            "text/html": [
              "<div>\n",
              "<style scoped>\n",
              "    .dataframe tbody tr th:only-of-type {\n",
              "        vertical-align: middle;\n",
              "    }\n",
              "\n",
              "    .dataframe tbody tr th {\n",
              "        vertical-align: top;\n",
              "    }\n",
              "\n",
              "    .dataframe thead th {\n",
              "        text-align: right;\n",
              "    }\n",
              "</style>\n",
              "<table border=\"1\" class=\"dataframe\">\n",
              "  <thead>\n",
              "    <tr style=\"text-align: right;\">\n",
              "      <th></th>\n",
              "      <th>instant</th>\n",
              "      <th>date</th>\n",
              "      <th>season</th>\n",
              "      <th>year</th>\n",
              "      <th>month</th>\n",
              "      <th>hour</th>\n",
              "      <th>is_holiday</th>\n",
              "      <th>weekday</th>\n",
              "      <th>is_workingday</th>\n",
              "      <th>weather_situation</th>\n",
              "      <th>temperature</th>\n",
              "      <th>feels_temperature</th>\n",
              "      <th>humidity</th>\n",
              "      <th>wind_speed</th>\n",
              "      <th>casual_users</th>\n",
              "      <th>registered_users</th>\n",
              "      <th>total_count</th>\n",
              "    </tr>\n",
              "  </thead>\n",
              "  <tbody>\n",
              "    <tr>\n",
              "      <th>0</th>\n",
              "      <td>1</td>\n",
              "      <td>2011-01-01</td>\n",
              "      <td>Spring</td>\n",
              "      <td>2011</td>\n",
              "      <td>Jan</td>\n",
              "      <td>0</td>\n",
              "      <td>No Holiday</td>\n",
              "      <td>Saturday</td>\n",
              "      <td>No</td>\n",
              "      <td>Clear/Partly Cloudy</td>\n",
              "      <td>0.24</td>\n",
              "      <td>0.2879</td>\n",
              "      <td>0.81</td>\n",
              "      <td>0.0</td>\n",
              "      <td>3</td>\n",
              "      <td>13</td>\n",
              "      <td>16</td>\n",
              "    </tr>\n",
              "    <tr>\n",
              "      <th>1</th>\n",
              "      <td>2</td>\n",
              "      <td>2011-01-01</td>\n",
              "      <td>Spring</td>\n",
              "      <td>2011</td>\n",
              "      <td>Jan</td>\n",
              "      <td>1</td>\n",
              "      <td>No Holiday</td>\n",
              "      <td>Saturday</td>\n",
              "      <td>No</td>\n",
              "      <td>Clear/Partly Cloudy</td>\n",
              "      <td>0.22</td>\n",
              "      <td>0.2727</td>\n",
              "      <td>0.80</td>\n",
              "      <td>0.0</td>\n",
              "      <td>8</td>\n",
              "      <td>32</td>\n",
              "      <td>40</td>\n",
              "    </tr>\n",
              "    <tr>\n",
              "      <th>2</th>\n",
              "      <td>3</td>\n",
              "      <td>2011-01-01</td>\n",
              "      <td>Spring</td>\n",
              "      <td>2011</td>\n",
              "      <td>Jan</td>\n",
              "      <td>2</td>\n",
              "      <td>No Holiday</td>\n",
              "      <td>Saturday</td>\n",
              "      <td>No</td>\n",
              "      <td>Clear/Partly Cloudy</td>\n",
              "      <td>0.22</td>\n",
              "      <td>0.2727</td>\n",
              "      <td>0.80</td>\n",
              "      <td>0.0</td>\n",
              "      <td>5</td>\n",
              "      <td>27</td>\n",
              "      <td>32</td>\n",
              "    </tr>\n",
              "    <tr>\n",
              "      <th>3</th>\n",
              "      <td>4</td>\n",
              "      <td>2011-01-01</td>\n",
              "      <td>Spring</td>\n",
              "      <td>2011</td>\n",
              "      <td>Jan</td>\n",
              "      <td>3</td>\n",
              "      <td>No Holiday</td>\n",
              "      <td>Saturday</td>\n",
              "      <td>No</td>\n",
              "      <td>Clear/Partly Cloudy</td>\n",
              "      <td>0.24</td>\n",
              "      <td>0.2879</td>\n",
              "      <td>0.75</td>\n",
              "      <td>0.0</td>\n",
              "      <td>3</td>\n",
              "      <td>10</td>\n",
              "      <td>13</td>\n",
              "    </tr>\n",
              "    <tr>\n",
              "      <th>4</th>\n",
              "      <td>5</td>\n",
              "      <td>2011-01-01</td>\n",
              "      <td>Spring</td>\n",
              "      <td>2011</td>\n",
              "      <td>Jan</td>\n",
              "      <td>4</td>\n",
              "      <td>No Holiday</td>\n",
              "      <td>Saturday</td>\n",
              "      <td>No</td>\n",
              "      <td>Clear/Partly Cloudy</td>\n",
              "      <td>0.24</td>\n",
              "      <td>0.2879</td>\n",
              "      <td>0.75</td>\n",
              "      <td>0.0</td>\n",
              "      <td>0</td>\n",
              "      <td>1</td>\n",
              "      <td>1</td>\n",
              "    </tr>\n",
              "  </tbody>\n",
              "</table>\n",
              "</div>"
            ],
            "text/plain": [
              "   instant       date  season  year month hour  is_holiday   weekday  \\\n",
              "0        1 2011-01-01  Spring  2011   Jan    0  No Holiday  Saturday   \n",
              "1        2 2011-01-01  Spring  2011   Jan    1  No Holiday  Saturday   \n",
              "2        3 2011-01-01  Spring  2011   Jan    2  No Holiday  Saturday   \n",
              "3        4 2011-01-01  Spring  2011   Jan    3  No Holiday  Saturday   \n",
              "4        5 2011-01-01  Spring  2011   Jan    4  No Holiday  Saturday   \n",
              "\n",
              "  is_workingday    weather_situation  temperature  feels_temperature  \\\n",
              "0            No  Clear/Partly Cloudy         0.24             0.2879   \n",
              "1            No  Clear/Partly Cloudy         0.22             0.2727   \n",
              "2            No  Clear/Partly Cloudy         0.22             0.2727   \n",
              "3            No  Clear/Partly Cloudy         0.24             0.2879   \n",
              "4            No  Clear/Partly Cloudy         0.24             0.2879   \n",
              "\n",
              "   humidity  wind_speed  casual_users  registered_users  total_count  \n",
              "0      0.81         0.0             3                13           16  \n",
              "1      0.80         0.0             8                32           40  \n",
              "2      0.80         0.0             5                27           32  \n",
              "3      0.75         0.0             3                10           13  \n",
              "4      0.75         0.0             0                 1            1  "
            ]
          },
          "execution_count": 19,
          "metadata": {},
          "output_type": "execute_result"
        }
      ],
      "source": [
        "hour_df.head()"
      ]
    },
    {
      "cell_type": "markdown",
      "metadata": {
        "id": "Q_5ejIqckiSP"
      },
      "source": [
        "**Insight:**\n",
        "- Data sudah bersih tanpa missing values atau duplikasi\n",
        "- Kolom sudah direnamed untuk readability yang lebih baik\n",
        "- Categorical variables sudah di-encode dengan labels yang meaningful\n",
        "- Data siap untuk analisis exploratory"
      ]
    },
    {
      "cell_type": "markdown",
      "metadata": {
        "id": "gp-Y6wU38DC1"
      },
      "source": [
        "## Exploratory Data Analysis (EDA)"
      ]
    },
    {
      "cell_type": "markdown",
      "metadata": {},
      "source": [
        "### Analisis Pola Penggunaan Berdasarkan Musim"
      ]
    },
    {
      "cell_type": "code",
      "execution_count": 20,
      "metadata": {},
      "outputs": [
        {
          "name": "stdout",
          "output_type": "stream",
          "text": [
            "=== ANALISIS PENYEWAAN BERDASARKAN MUSIM ===\n",
            "       total_count                              casual_users          \\\n",
            "              mean  median      std   min   max         mean  median   \n",
            "season                                                                 \n",
            "Spring     2604.13  2209.0  1399.94   431  7836       334.93   218.0   \n",
            "Summer     4992.33  4941.5  1695.98   795  8362      1106.10   867.0   \n",
            "Fall       5644.30  5353.5  1459.80  1115  8714      1202.61  1050.5   \n",
            "Winter     4728.16  4634.5  1699.62    22  8555       729.11   544.5   \n",
            "\n",
            "       registered_users          \n",
            "                   mean  median  \n",
            "season                           \n",
            "Spring          2269.20  1867.0  \n",
            "Summer          3886.23  3844.0  \n",
            "Fall            4441.69  4110.5  \n",
            "Winter          3999.05  3815.0  \n"
          ]
        }
      ],
      "source": [
        "# Analisis distribusi penyewaan per musim\n",
        "seasonal_analysis = day_df.groupby('season').agg({\n",
        "    'total_count': ['mean', 'median', 'std', 'min', 'max'],\n",
        "    'casual_users': ['mean', 'median'],\n",
        "    'registered_users': ['mean', 'median']\n",
        "}).round(2)\n",
        "\n",
        "print(\"=== ANALISIS PENYEWAAN BERDASARKAN MUSIM ===\")\n",
        "print(seasonal_analysis)"
      ]
    },
    {
      "cell_type": "code",
      "execution_count": 21,
      "metadata": {},
      "outputs": [
        {
          "name": "stdout",
          "output_type": "stream",
          "text": [
            "MUSIM SPRING:\n",
            "  - Jumlah hari: 181\n",
            "  - Rata-rata penyewaan harian: 2604\n",
            "  - Range: 431 - 7836\n",
            "  - Standar deviasi: 1400\n",
            "MUSIM SUMMER:\n",
            "  - Jumlah hari: 184\n",
            "  - Rata-rata penyewaan harian: 4992\n",
            "  - Range: 795 - 8362\n",
            "  - Standar deviasi: 1696\n",
            "MUSIM FALL:\n",
            "  - Jumlah hari: 188\n",
            "  - Rata-rata penyewaan harian: 5644\n",
            "  - Range: 1115 - 8714\n",
            "  - Standar deviasi: 1460\n",
            "MUSIM WINTER:\n",
            "  - Jumlah hari: 178\n",
            "  - Rata-rata penyewaan harian: 4728\n",
            "  - Range: 22 - 8555\n",
            "  - Standar deviasi: 1700\n"
          ]
        }
      ],
      "source": [
        "# Statistik per musim\n",
        "for season in day_df['season'].unique():\n",
        "    season_data = day_df[day_df['season'] == season]\n",
        "    print(f\"MUSIM {season.upper()}:\")\n",
        "    print(f\"  - Jumlah hari: {len(season_data)}\")\n",
        "    print(f\"  - Rata-rata penyewaan harian: {season_data['total_count'].mean():.0f}\")\n",
        "    print(f\"  - Range: {season_data['total_count'].min()} - {season_data['total_count'].max()}\")\n",
        "    print(f\"  - Standar deviasi: {season_data['total_count'].std():.0f}\")"
      ]
    },
    {
      "cell_type": "markdown",
      "metadata": {},
      "source": [
        "### Analisis Pengaruh Kondisi Cuaca"
      ]
    },
    {
      "cell_type": "code",
      "execution_count": 22,
      "metadata": {},
      "outputs": [
        {
          "name": "stdout",
          "output_type": "stream",
          "text": [
            "Statistik berdasarkan kondisi cuaca:\n",
            "                      total_count                   temperature humidity  \\\n",
            "                            count     mean      std        mean     mean   \n",
            "weather_situation                                                          \n",
            "Clear/Partly Cloudy           463  4876.79  1879.48        0.51     0.57   \n",
            "Mist/Cloudy                   247  4035.86  1809.11        0.47     0.73   \n",
            "Light Snow/Light Rain          21  1803.29  1240.28        0.43     0.85   \n",
            "\n",
            "                      wind_speed  \n",
            "                            mean  \n",
            "weather_situation                 \n",
            "Clear/Partly Cloudy         0.19  \n",
            "Mist/Cloudy                 0.19  \n",
            "Light Snow/Light Rain       0.24  \n"
          ]
        }
      ],
      "source": [
        "# Analisis berdasarkan weather situation\n",
        "weather_analysis = day_df.groupby('weather_situation').agg({\n",
        "    'total_count': ['count', 'mean', 'std'],\n",
        "    'temperature': 'mean',\n",
        "    'humidity': 'mean',\n",
        "    'wind_speed': 'mean'\n",
        "}).round(2)\n",
        "\n",
        "print(\"Statistik berdasarkan kondisi cuaca:\")\n",
        "print(weather_analysis)"
      ]
    },
    {
      "cell_type": "code",
      "execution_count": 23,
      "metadata": {},
      "outputs": [
        {
          "name": "stdout",
          "output_type": "stream",
          "text": [
            "Korelasi variabel cuaca dengan total penyewaan:\n",
            "  - feels_temperature: 0.631\n",
            "  - temperature: 0.627\n",
            "  - humidity: -0.101\n",
            "  - wind_speed: -0.235\n"
          ]
        }
      ],
      "source": [
        "# Korelasi antara variabel cuaca dengan penyewaan\n",
        "weather_corr = day_df[['temperature', 'feels_temperature', 'humidity', 'wind_speed', 'total_count']].corr()['total_count'].sort_values(ascending=False)\n",
        "print(\"Korelasi variabel cuaca dengan total penyewaan:\")\n",
        "for var, corr in weather_corr.items():\n",
        "    if var != 'total_count':\n",
        "        print(f\"  - {var}: {corr:.3f}\")"
      ]
    },
    {
      "cell_type": "code",
      "execution_count": 24,
      "metadata": {},
      "outputs": [
        {
          "name": "stdout",
          "output_type": "stream",
          "text": [
            "Penyewaan berdasarkan range suhu:\n",
            "               count     mean      std\n",
            "temperature                           \n",
            "Sangat Dingin     43  1571.16   639.78\n",
            "Dingin           194  3152.02  1391.39\n",
            "Sedang           173  4585.80  1713.28\n",
            "Hangat           194  5674.96  1561.20\n",
            "Panas            127  5664.12  1293.64\n"
          ]
        }
      ],
      "source": [
        "# Analisis suhu optimal\n",
        "temp_ranges = pd.cut(day_df['temperature'], bins=5, labels=['Sangat Dingin', 'Dingin', 'Sedang', 'Hangat', 'Panas'])\n",
        "temp_analysis = day_df.groupby(temp_ranges)['total_count'].agg(['count', 'mean', 'std']).round(2)\n",
        "print(\"Penyewaan berdasarkan range suhu:\")\n",
        "print(temp_analysis)"
      ]
    },
    {
      "cell_type": "markdown",
      "metadata": {},
      "source": [
        "### Analisis Perbedaan Casual vs Registered Users"
      ]
    },
    {
      "cell_type": "code",
      "execution_count": 25,
      "metadata": {},
      "outputs": [
        {
          "name": "stdout",
          "output_type": "stream",
          "text": [
            "Perbandingan hari kerja vs akhir pekan:\n",
            "              registered_users                  total_count        \n",
            "                          mean  median      std        mean  median\n",
            "is_workingday                                                      \n",
            "No                     2959.03  2928.0  1293.87     4330.17  4459.0\n",
            "Yes                    3978.25  3866.0  1568.69     4584.82  4582.0\n"
          ]
        }
      ],
      "source": [
        "# Perbandingan pada hari kerja vs akhir pekan\n",
        "workday_analysis = day_df.groupby('is_workingday').agg({\n",
        "    'registered_users': ['mean', 'median', 'std'],\n",
        "    'registered_users': ['mean', 'median', 'std'],\n",
        "    'total_count': ['mean', 'median']\n",
        "}).round(2)\n",
        "\n",
        "print(\"Perbandingan hari kerja vs akhir pekan:\")\n",
        "print(workday_analysis)"
      ]
    },
    {
      "cell_type": "code",
      "execution_count": 26,
      "metadata": {},
      "outputs": [
        {
          "name": "stdout",
          "output_type": "stream",
          "text": [
            "Persentase rata-rata casual vs registered users:\n",
            "               casual_ratio  registered_ratio\n",
            "is_workingday                                \n",
            "No                    29.05             70.95\n",
            "Yes                   12.25             87.75\n"
          ]
        }
      ],
      "source": [
        "# Rasio casual vs registered\n",
        "day_df['casual_ratio'] = day_df['casual_users'] / day_df['total_count'] * 100\n",
        "day_df['registered_ratio'] = day_df['registered_users'] / day_df['total_count'] * 100\n",
        "\n",
        "ratio_analysis = day_df.groupby('is_workingday')[['casual_ratio', 'registered_ratio']].mean().round(2)\n",
        "print(\"Persentase rata-rata casual vs registered users:\")\n",
        "print(ratio_analysis)"
      ]
    },
    {
      "cell_type": "code",
      "execution_count": 27,
      "metadata": {},
      "outputs": [
        {
          "name": "stdout",
          "output_type": "stream",
          "text": [
            "Rata-rata penyewaan per hari dalam minggu:\n",
            "           casual_users  registered_users  total_count\n",
            "weekday                                               \n",
            "Sunday           1338.0            2891.0       4229.0\n",
            "Monday            674.0            3664.0       4338.0\n",
            "Tuesday           556.0            3954.0       4511.0\n",
            "Wednesday         551.0            3997.0       4549.0\n",
            "Thursday          591.0            4076.0       4667.0\n",
            "Friday            752.0            3938.0       4690.0\n",
            "Saturday         1465.0            3085.0       4551.0\n"
          ]
        }
      ],
      "source": [
        "# Analisis berdasarkan hari dalam minggu\n",
        "weekday_analysis = day_df.groupby('weekday').agg({\n",
        "    'casual_users': 'mean',\n",
        "    'registered_users': 'mean',\n",
        "    'total_count': 'mean'\n",
        "}).round(0)\n",
        "\n",
        "print(\"Rata-rata penyewaan per hari dalam minggu:\")\n",
        "print(weekday_analysis)"
      ]
    },
    {
      "cell_type": "markdown",
      "metadata": {},
      "source": [
        "### Analisis Peak Hours (menggunakan data per jam)"
      ]
    },
    {
      "cell_type": "code",
      "execution_count": 28,
      "metadata": {},
      "outputs": [
        {
          "name": "stdout",
          "output_type": "stream",
          "text": [
            "Peak hours hari kerja (5 jam tertinggi):\n",
            "  - Jam 17: 525 penyewaan rata-rata\n",
            "  - Jam 18: 492 penyewaan rata-rata\n",
            "  - Jam 8: 477 penyewaan rata-rata\n",
            "  - Jam 19: 348 penyewaan rata-rata\n",
            "  - Jam 16: 293 penyewaan rata-rata\n"
          ]
        }
      ],
      "source": [
        "# Peak hours pada hari kerja\n",
        "workday_hourly = hour_df[hour_df['is_workingday'] == 'Yes'].groupby('hour')['total_count'].mean()\n",
        "weekend_hourly = hour_df[hour_df['is_workingday'] == 'No'].groupby('hour')['total_count'].mean()\n",
        "\n",
        "print(\"Peak hours hari kerja (5 jam tertinggi):\")\n",
        "workday_peaks = workday_hourly.nlargest(5)\n",
        "for hour, count in workday_peaks.items():\n",
        "    print(f\"  - Jam {hour}: {count:.0f} penyewaan rata-rata\")"
      ]
    },
    {
      "cell_type": "code",
      "execution_count": 29,
      "metadata": {},
      "outputs": [
        {
          "name": "stdout",
          "output_type": "stream",
          "text": [
            "Peak hours akhir pekan (5 jam tertinggi):\n",
            "  - Jam 13: 373 penyewaan rata-rata\n",
            "  - Jam 12: 366 penyewaan rata-rata\n",
            "  - Jam 14: 365 penyewaan rata-rata\n",
            "  - Jam 15: 359 penyewaan rata-rata\n",
            "  - Jam 16: 353 penyewaan rata-rata\n"
          ]
        }
      ],
      "source": [
        "print(\"Peak hours akhir pekan (5 jam tertinggi):\")\n",
        "weekend_peaks = weekend_hourly.nlargest(5)\n",
        "for hour, count in weekend_peaks.items():\n",
        "    print(f\"  - Jam {hour}: {count:.0f} penyewaan rata-rata\")"
      ]
    },
    {
      "cell_type": "code",
      "execution_count": 30,
      "metadata": {},
      "outputs": [
        {
          "name": "stdout",
          "output_type": "stream",
          "text": [
            "Rata-rata penyewaan berdasarkan periode waktu:\n",
            "is_workingday  time_period\n",
            "No             Malam           74.0\n",
            "               Pagi           132.0\n",
            "               Siang          363.0\n",
            "               Sore           253.0\n",
            "Yes            Malam           62.0\n",
            "               Pagi           204.0\n",
            "               Siang          215.0\n",
            "               Sore           404.0\n",
            "Name: total_count, dtype: float64\n"
          ]
        }
      ],
      "source": [
        "# Pola penyewaan berdasarkan periode waktu\n",
        "def categorize_time(hour):\n",
        "    if 5 <= hour < 12:\n",
        "        return 'Pagi'\n",
        "    elif 12 <= hour < 17:\n",
        "        return 'Siang'\n",
        "    elif 17 <= hour < 21:\n",
        "        return 'Sore'\n",
        "    else:\n",
        "        return 'Malam'\n",
        "\n",
        "hour_df['time_period'] = hour_df['hour'].apply(categorize_time)\n",
        "\n",
        "time_period_analysis = hour_df.groupby(['is_workingday', 'time_period'])['total_count'].mean().round(0)\n",
        "print(\"Rata-rata penyewaan berdasarkan periode waktu:\")\n",
        "print(time_period_analysis)"
      ]
    },
    {
      "cell_type": "markdown",
      "metadata": {},
      "source": [
        "### Analisis Pola Pengguna Casual vs Registered per Jam"
      ]
    },
    {
      "cell_type": "code",
      "execution_count": 31,
      "metadata": {},
      "outputs": [
        {
          "name": "stdout",
          "output_type": "stream",
          "text": [
            "Peak hours untuk casual users:\n",
            "Hari kerja (3 jam tertinggi):\n",
            "  - Jam 17: 56.9\n",
            "  - Jam 18: 50.5\n",
            "  - Jam 16: 48.3\n",
            "Akhir pekan (3 jam tertinggi):\n",
            "  - Jam 14: 139.6\n",
            "  - Jam 15: 136.5\n",
            "  - Jam 13: 136.4\n"
          ]
        }
      ],
      "source": [
        "casual_hourly_workday = hour_df[hour_df['is_workingday'] == 'Yes'].groupby('hour')['casual_users'].mean()\n",
        "registered_hourly_workday = hour_df[hour_df['is_workingday'] == 'Yes'].groupby('hour')['registered_users'].mean()\n",
        "\n",
        "casual_hourly_weekend = hour_df[hour_df['is_workingday'] == 'No'].groupby('hour')['casual_users'].mean()\n",
        "registered_hourly_weekend = hour_df[hour_df['is_workingday'] == 'No'].groupby('hour')['registered_users'].mean()\n",
        "\n",
        "print(\"Peak hours untuk casual users:\")\n",
        "print(\"Hari kerja (3 jam tertinggi):\")\n",
        "for hour, count in casual_hourly_workday.nlargest(3).items():\n",
        "    print(f\"  - Jam {hour}: {count:.1f}\")\n",
        "print(\"Akhir pekan (3 jam tertinggi):\")\n",
        "for hour, count in casual_hourly_weekend.nlargest(3).items():\n",
        "    print(f\"  - Jam {hour}: {count:.1f}\")"
      ]
    },
    {
      "cell_type": "code",
      "execution_count": 32,
      "metadata": {},
      "outputs": [
        {
          "name": "stdout",
          "output_type": "stream",
          "text": [
            "Peak hours untuk registered users:\n",
            "Hari kerja (3 jam tertinggi):\n",
            "  - Jam 17: 468.4\n",
            "  - Jam 8: 454.7\n",
            "  - Jam 18: 441.8\n",
            "Akhir pekan (3 jam tertinggi):\n",
            "  - Jam 12: 240.0\n",
            "  - Jam 13: 236.3\n",
            "  - Jam 14: 225.1\n"
          ]
        }
      ],
      "source": [
        "print(\"Peak hours untuk registered users:\")\n",
        "print(\"Hari kerja (3 jam tertinggi):\")\n",
        "for hour, count in registered_hourly_workday.nlargest(3).items():\n",
        "    print(f\"  - Jam {hour}: {count:.1f}\")\n",
        "print(\"Akhir pekan (3 jam tertinggi):\")\n",
        "for hour, count in registered_hourly_weekend.nlargest(3).items():\n",
        "    print(f\"  - Jam {hour}: {count:.1f}\")"
      ]
    },
    {
      "cell_type": "code",
      "execution_count": 33,
      "metadata": {},
      "outputs": [
        {
          "name": "stdout",
          "output_type": "stream",
          "text": [
            "1. POLA MUSIMAN:\n",
            "   - Musim dengan penyewaan tertinggi: Fall\n",
            "   - Musim dengan penyewaan terendah: Spring\n",
            "2. Kondisi cuaca:\n",
            "   - Kondisi cuaca optimal: Clear/Partly Cloudy\n",
            "\n",
            "3. PERILAKU PENGGUNA:\n",
            "   - Rasio casual users akhir pekan: 29.1%\n",
            "   - Rasio casual users hari kerja: 12.3%\n",
            "   - Perbedaan: 16.8 poin persentase\n",
            "\n",
            "4. PEAK HOURS:\n",
            "   - Peak utama hari kerja: Jam 17\n",
            "   - Peak utama akhir pekan: Jam 13\n",
            "   - Rata-rata penyewaan hari kerja: 4585\n",
            "   - Rata-rata penyewaan akhir pekan: 4330\n",
            "   - Selisih: 255 penyewaan\n"
          ]
        }
      ],
      "source": [
        "# 1. Musim terbaik dan terburuk\n",
        "best_season = day_df.groupby('season')['total_count'].mean().idxmax()\n",
        "worst_season = day_df.groupby('season')['total_count'].mean().idxmin()\n",
        "print(f\"1. POLA MUSIMAN:\")\n",
        "print(f\"   - Musim dengan penyewaan tertinggi: {best_season}\")\n",
        "print(f\"   - Musim dengan penyewaan terendah: {worst_season}\")\n",
        "\n",
        "# 2. Kondisi cuaca optimal\n",
        "best_weather = day_df.groupby('weather_situation')['total_count'].mean().idxmax()\n",
        "print(f\"2. Kondisi cuaca:\")\n",
        "print(f\"   - Kondisi cuaca optimal: {best_weather}\")\n",
        "print()\n",
        "\n",
        "# 3. Perbedaan user behavior\n",
        "casual_weekend_ratio = day_df[day_df['is_workingday'] == 'No']['casual_ratio'].mean()\n",
        "casual_workday_ratio = day_df[day_df['is_workingday'] == 'Yes']['casual_ratio'].mean()\n",
        "print(f\"3. PERILAKU PENGGUNA:\")\n",
        "print(f\"   - Rasio casual users akhir pekan: {casual_weekend_ratio:.1f}%\")\n",
        "print(f\"   - Rasio casual users hari kerja: {casual_workday_ratio:.1f}%\")\n",
        "print(f\"   - Perbedaan: {casual_weekend_ratio - casual_workday_ratio:.1f} poin persentase\")\n",
        "print()\n",
        "\n",
        "# 4. Peak hours utama\n",
        "main_peak_workday = workday_hourly.idxmax()\n",
        "main_peak_weekend = weekend_hourly.idxmax()\n",
        "print(f\"4. PEAK HOURS:\")\n",
        "print(f\"   - Peak utama hari kerja: Jam {main_peak_workday}\")\n",
        "print(f\"   - Peak utama akhir pekan: Jam {main_peak_weekend}\")\n",
        "\n",
        "# Menghitung perbedaan demand antara hari kerja vs weekend\n",
        "avg_workday = day_df[day_df['is_workingday'] == 'Yes']['total_count'].mean()\n",
        "avg_weekend = day_df[day_df['is_workingday'] == 'No']['total_count'].mean()\n",
        "print(f\"   - Rata-rata penyewaan hari kerja: {avg_workday:.0f}\")\n",
        "print(f\"   - Rata-rata penyewaan akhir pekan: {avg_weekend:.0f}\")\n",
        "print(f\"   - Selisih: {avg_workday - avg_weekend:.0f} penyewaan\")"
      ]
    },
    {
      "cell_type": "markdown",
      "metadata": {
        "id": "th_Lzl2Fkj9O"
      },
      "source": [
        "**Insight:**\n",
        "- Penyewaan tertinggi di Fall dan terendah di Spring, menunjukkan demand sangat dipengaruhi musim.\n",
        "\n",
        "- Kondisi Clear/Partly Cloudy paling optimal, suhu hangat meningkatkan rentals, sementara humidity & wind speed menurunkannya.\n",
        "\n",
        "- Casual users lebih dominan di weekend (29.1% vs 12.3% weekday), sedangkan registered users mendominasi weekday (commuting purpose).\n",
        "\n",
        "- Hari kerja puncak jam 17:00 (evening commute), akhir pekan puncak jam 13:00 (leisure), dengan rata-rata weekday lebih tinggi (+255 rentals)."
      ]
    },
    {
      "cell_type": "markdown",
      "metadata": {
        "id": "zsyZjqak8DC2"
      },
      "source": [
        "## Visualization & Explanatory Analysis"
      ]
    },
    {
      "cell_type": "markdown",
      "metadata": {
        "id": "HZxOiQ6n8DC2"
      },
      "source": [
        "### Pertanyaan 1:"
      ]
    },
    {
      "cell_type": "code",
      "execution_count": 34,
      "metadata": {},
      "outputs": [
        {
          "data": {
            "image/png": "[encoded data removed]",
            "text/plain": [
              "<Figure size 600x400 with 1 Axes>"
            ]
          },
          "metadata": {},
          "output_type": "display_data"
        }
      ],
      "source": [
        "plt.figure(figsize=(6,4))\n",
        "sns.barplot(\n",
        "    x=\"season\", y=\"total_count\", data=day_df,\n",
        "    estimator=\"mean\", errorbar=None, palette=\"Set2\", edgecolor=\"black\"\n",
        ")\n",
        "plt.title(\"Average Rentals per Season\", fontsize=13, weight=\"bold\")\n",
        "plt.ylabel(\"Average Rentals\")\n",
        "plt.xlabel(\"Season\")\n",
        "plt.tight_layout()\n",
        "plt.show()"
      ]
    },
    {
      "cell_type": "markdown",
      "metadata": {
        "id": "DgHI7CiU8DC2"
      },
      "source": [
        "### Pertanyaan 2:"
      ]
    },
    {
      "cell_type": "code",
      "execution_count": 35,
      "metadata": {},
      "outputs": [
        {
          "data": {
            "image/png": "[encoded data removed]",
            "text/plain": [
              "<Figure size 700x400 with 1 Axes>"
            ]
          },
          "metadata": {},
          "output_type": "display_data"
        }
      ],
      "source": [
        "plt.figure(figsize=(7,4))\n",
        "sns.barplot(\n",
        "    x=\"weather_situation\", y=\"total_count\", data=day_df,\n",
        "    ci=None, palette=\"Set3\", edgecolor=\"black\"\n",
        ")\n",
        "plt.title(\"Average Rentals by Weather Situation\", fontsize=13, weight=\"bold\")\n",
        "plt.ylabel(\"Average Total Rentals\")\n",
        "plt.xlabel(\"Weather Situation\")\n",
        "plt.tight_layout()\n",
        "plt.show()"
      ]
    },
    {
      "cell_type": "code",
      "execution_count": 36,
      "metadata": {},
      "outputs": [
        {
          "data": {
            "image/png": "[encoded data removed]",
            "text/plain": [
              "<Figure size 600x400 with 2 Axes>"
            ]
          },
          "metadata": {},
          "output_type": "display_data"
        }
      ],
      "source": [
        "# Korelasi Cuaca\n",
        "plt.figure(figsize=(6,4))\n",
        "sns.heatmap(\n",
        "    day_df[['temperature','feels_temperature','humidity','wind_speed','total_count']].corr(),\n",
        "    annot=True, cmap=\"RdBu_r\", fmt=\".2f\", linewidths=0.5, cbar_kws={\"shrink\": .8}\n",
        ")\n",
        "plt.title(\"Correlation: Weather vs Rentals\", fontsize=13, weight=\"bold\")\n",
        "plt.tight_layout()\n",
        "plt.show()"
      ]
    },
    {
      "cell_type": "markdown",
      "metadata": {},
      "source": [
        "### Pertanyaan 3:"
      ]
    },
    {
      "cell_type": "code",
      "execution_count": 37,
      "metadata": {},
      "outputs": [
        {
          "data": {
            "text/plain": [
              "<Figure size 600x400 with 0 Axes>"
            ]
          },
          "metadata": {},
          "output_type": "display_data"
        },
        {
          "data": {
            "image/png": "[encoded data removed]",
            "text/plain": [
              "<Figure size 640x480 with 1 Axes>"
            ]
          },
          "metadata": {},
          "output_type": "display_data"
        }
      ],
      "source": [
        "plt.figure(figsize=(6,4))\n",
        "\n",
        "avg = day_df.groupby(\"is_workingday\")[[\"casual_ratio\",\"registered_ratio\"]].mean()\n",
        "avg.plot(\n",
        "    kind=\"bar\", stacked=True, color=[\"#4C72B0\",\"#DD8452\"], edgecolor=\"black\"\n",
        ")\n",
        "\n",
        "plt.title(\"Casual vs Registered Ratio (Weekday vs Weekend)\", fontsize=13, weight=\"bold\")\n",
        "plt.ylabel(\"Average % Users\")\n",
        "plt.xlabel(\"Working Day (Yes/No)\")\n",
        "plt.legend(title=\"User Type\", labels=[\"Casual\", \"Registered\"])\n",
        "plt.tight_layout()\n",
        "plt.show()\n"
      ]
    },
    {
      "cell_type": "markdown",
      "metadata": {},
      "source": [
        "### Pertanyaan 4:"
      ]
    },
    {
      "cell_type": "code",
      "execution_count": 38,
      "metadata": {},
      "outputs": [
        {
          "data": {
            "image/png": "[encoded data removed]",
            "text/plain": [
              "<Figure size 800x400 with 1 Axes>"
            ]
          },
          "metadata": {},
          "output_type": "display_data"
        }
      ],
      "source": [
        "plt.figure(figsize=(8,4))\n",
        "sns.lineplot(\n",
        "    x=\"hour\", y=\"total_count\", data=hour_df[hour_df[\"is_workingday\"]==\"Yes\"],\n",
        "    label=\"Workday\", marker=\"o\", linewidth=2\n",
        ")\n",
        "sns.lineplot(\n",
        "    x=\"hour\", y=\"total_count\", data=hour_df[hour_df[\"is_workingday\"]==\"No\"],\n",
        "    label=\"Weekend\", marker=\"o\", linewidth=2\n",
        ")\n",
        "plt.title(\"Hourly Rentals: Workday vs Weekend\", fontsize=13, weight=\"bold\")\n",
        "plt.ylabel(\"Average Rentals\")\n",
        "plt.xlabel(\"Hour\")\n",
        "plt.xticks(range(0,24))\n",
        "plt.legend(title=\"Day Type\")\n",
        "plt.grid(alpha=0.3)\n",
        "plt.tight_layout()\n",
        "plt.show()\n"
      ]
    },
    {
      "cell_type": "markdown",
      "metadata": {
        "id": "_0-36BDLklRg"
      },
      "source": [
        "**Insight:**\n",
        "- Penyewaan tertinggi terjadi pada Fall dan Summer, terendah pada Spring. Artinya, musim memengaruhi minat bersepeda, dengan cuaca hangat/gugur lebih mendukung aktivitas ini.\n",
        "\n",
        "- Penyewaan tertinggi saat Clear/Partly Cloudy, menurun pada kondisi Mist/Cloudy, dan paling rendah pada Light Snow/Light Rain. Suhu (temperature/feels temperature) memiliki korelasi positif kuat terhadap jumlah penyewaan, sementara humidity dan wind speed berdampak negatif meski tidak dominan.\n",
        "\n",
        "- Casual users lebih aktif pada weekend (rekreasi). Sedangkan Registered users lebih dominan pada weekday (transportasi rutin).\n",
        "\n",
        "- Jam Sibuk:\n",
        "    - Weekday: dua puncak utama di pagi (07–09) dan sore (17–19), sesuai pola commuting.\n",
        "    - Weekend: puncak lebih stabil di siang hari (11–16), sesuai aktivitas rekreasi."
      ]
    },
    {
      "cell_type": "markdown",
      "metadata": {
        "id": "9y4VUsmcYNZ5"
      },
      "source": [
        "## Analisis Lanjutan (Opsional)"
      ]
    },
    {
      "cell_type": "markdown",
      "metadata": {},
      "source": [
        "### Definisi Cluster Berdasarkan Business Rules"
      ]
    },
    {
      "cell_type": "code",
      "execution_count": 39,
      "metadata": {},
      "outputs": [],
      "source": [
        "# Kategorisasi hari berdasarkan pola demand\n",
        "def categorize_demand_day(row):\n",
        "    \"\"\"\n",
        "    Kategorisasi hari berdasarkan pola demand:\n",
        "    - High Demand: > 6000 rentals\n",
        "    - Medium Demand: 3000-6000 rentals  \n",
        "    - Low Demand: < 3000 rentals\n",
        "    \"\"\"\n",
        "    if row['total_count'] >= 6000:\n",
        "        return 'High Demand'\n",
        "    elif row['total_count'] >= 3000:\n",
        "        return 'Medium Demand'\n",
        "    else:\n",
        "        return 'Low Demand'\n",
        "\n",
        "day_df['demand_cluster'] = day_df.apply(categorize_demand_day, axis=1)\n"
      ]
    },
    {
      "cell_type": "markdown",
      "metadata": {},
      "source": [
        "### Analisis Karakteristik Setiap Cluster"
      ]
    },
    {
      "cell_type": "code",
      "execution_count": 40,
      "metadata": {},
      "outputs": [
        {
          "name": "stdout",
          "output_type": "stream",
          "text": [
            "=== KARAKTERISTIK SETIAP DEMAND CLUSTER ===\n",
            "               total_count                      temperature humidity  \\\n",
            "                     count     mean   min   max        mean     mean   \n",
            "demand_cluster                                                         \n",
            "High Demand            180  7060.08  6031  8714        0.62     0.61   \n",
            "Low Demand             172  1859.63    22  2999        0.30     0.64   \n",
            "Medium Demand          379  4490.79  3005  5992        0.52     0.63   \n",
            "\n",
            "               wind_speed casual_users registered_users  \n",
            "                     mean         mean             mean  \n",
            "demand_cluster                                           \n",
            "High Demand          0.17      1508.53          5551.54  \n",
            "Low Demand           0.22       255.81          1603.83  \n",
            "Medium Demand        0.19       803.38          3687.40  \n"
          ]
        }
      ],
      "source": [
        "cluster_analysis = day_df.groupby('demand_cluster').agg({\n",
        "    'total_count': ['count', 'mean', 'min', 'max'],\n",
        "    'temperature': 'mean',\n",
        "    'humidity': 'mean',\n",
        "    'wind_speed': 'mean',\n",
        "    'casual_users': 'mean',\n",
        "    'registered_users': 'mean'\n",
        "}).round(2)\n",
        "\n",
        "print(\"=== KARAKTERISTIK SETIAP DEMAND CLUSTER ===\")\n",
        "print(cluster_analysis)\n"
      ]
    },
    {
      "cell_type": "markdown",
      "metadata": {},
      "source": [
        "### Distribusi Cluster (Season, Weather, Workday)"
      ]
    },
    {
      "cell_type": "code",
      "execution_count": 41,
      "metadata": {},
      "outputs": [
        {
          "name": "stdout",
          "output_type": "stream",
          "text": [
            "\n",
            "=== DISTRIBUSI CLUSTER PER MUSIM ===\n",
            "demand_cluster  High Demand  Low Demand  Medium Demand\n",
            "season                                                \n",
            "Spring                  2.8        64.6           32.6\n",
            "Summer                 33.7        13.6           52.7\n",
            "Fall                   41.5         2.1           56.4\n",
            "Winter                 19.7        14.6           65.7\n",
            "\n",
            "=== DISTRIBUSI CLUSTER PER KONDISI CUACA ===\n",
            "demand_cluster         High Demand  Low Demand  Medium Demand\n",
            "weather_situation                                            \n",
            "Clear/Partly Cloudy           30.2        16.8           52.9\n",
            "Mist/Cloudy                   16.2        30.4           53.4\n",
            "Light Snow/Light Rain          0.0        90.5            9.5\n",
            "\n",
            "=== DISTRIBUSI CLUSTER PER HARI KERJA ===\n",
            "demand_cluster  High Demand  Low Demand  Medium Demand\n",
            "is_workingday                                         \n",
            "No                     24.2        28.1           47.6\n",
            "Yes                    24.8        21.4           53.8\n"
          ]
        }
      ],
      "source": [
        "print(\"\\n=== DISTRIBUSI CLUSTER PER MUSIM ===\")\n",
        "season_cluster = pd.crosstab(day_df['season'], day_df['demand_cluster'], normalize='index') * 100\n",
        "print(season_cluster.round(1))\n",
        "\n",
        "print(\"\\n=== DISTRIBUSI CLUSTER PER KONDISI CUACA ===\")\n",
        "weather_cluster = pd.crosstab(day_df['weather_situation'], day_df['demand_cluster'], normalize='index') * 100\n",
        "print(weather_cluster.round(1))\n",
        "\n",
        "print(\"\\n=== DISTRIBUSI CLUSTER PER HARI KERJA ===\")\n",
        "workday_cluster = pd.crosstab(day_df['is_workingday'], day_df['demand_cluster'], normalize='index') * 100\n",
        "print(workday_cluster.round(1))\n"
      ]
    },
    {
      "cell_type": "code",
      "execution_count": 42,
      "metadata": {},
      "outputs": [
        {
          "data": {
            "image/png": "[encoded data removed]",
            "text/plain": [
              "<Figure size 500x500 with 1 Axes>"
            ]
          },
          "metadata": {},
          "output_type": "display_data"
        }
      ],
      "source": [
        "colors = ['#2E8B57', '#4682B4', '#CD5C5C']  # Green, Blue, Red\n",
        "\n",
        "plt.figure(figsize=(5, 5))\n",
        "cluster_counts = day_df['demand_cluster'].value_counts()\n",
        "\n",
        "plt.pie(cluster_counts.values, labels=cluster_counts.index, autopct='%1.1f%%', \n",
        "        colors=colors, startangle=90, wedgeprops={'edgecolor': 'black'})\n",
        "plt.title('Demand Cluster Distribution', fontsize=12, weight='bold')\n",
        "plt.show()"
      ]
    },
    {
      "cell_type": "code",
      "execution_count": 43,
      "metadata": {},
      "outputs": [
        {
          "data": {
            "image/png": "[encoded data removed]",
            "text/plain": [
              "<Figure size 600x500 with 1 Axes>"
            ]
          },
          "metadata": {},
          "output_type": "display_data"
        }
      ],
      "source": [
        "order = ['Low Demand', 'Medium Demand', 'High Demand']\n",
        "colors = ['#2E8B57', '#4682B4', '#CD5C5C']\n",
        "\n",
        "plt.figure(figsize=(6, 5))\n",
        "cluster_means = day_df.groupby('demand_cluster')['total_count'].mean().reindex(order)\n",
        "\n",
        "bars = plt.bar(range(len(cluster_means)), cluster_means.values, \n",
        "               color=colors, edgecolor='black', alpha=0.8)\n",
        "\n",
        "plt.title('Average Rentals by Cluster', fontsize=12, weight='bold')\n",
        "plt.ylabel('Average Rentals')\n",
        "plt.xlabel('Demand Cluster')\n",
        "plt.xticks(range(len(cluster_means)), cluster_means.index, rotation=45)\n",
        "\n",
        "# Tambah label\n",
        "for i, bar in enumerate(bars):\n",
        "    plt.text(bar.get_x() + bar.get_width()/2, bar.get_height() + 50,\n",
        "             f'{int(cluster_means.iloc[i])}', ha='center', va='bottom', fontweight='bold')\n",
        "\n",
        "plt.show()\n"
      ]
    },
    {
      "cell_type": "code",
      "execution_count": 44,
      "metadata": {},
      "outputs": [
        {
          "data": {
            "text/plain": [
              "<Figure size 700x500 with 0 Axes>"
            ]
          },
          "metadata": {},
          "output_type": "display_data"
        },
        {
          "data": {
            "image/png": "[encoded data removed]",
            "text/plain": [
              "<Figure size 640x480 with 1 Axes>"
            ]
          },
          "metadata": {},
          "output_type": "display_data"
        }
      ],
      "source": [
        "plt.figure(figsize=(7, 5))\n",
        "season_cluster_df = pd.crosstab(day_df['season'], day_df['demand_cluster'])\n",
        "\n",
        "season_cluster_df[order].plot(kind='bar', stacked=True, color=colors, \n",
        "                              edgecolor='black', alpha=0.8)\n",
        "\n",
        "plt.title('Demand Clusters by Season', fontsize=12, weight='bold')\n",
        "plt.ylabel('Number of Days')\n",
        "plt.xlabel('Season')\n",
        "plt.xticks(rotation=45)\n",
        "plt.legend(title='Demand Cluster', bbox_to_anchor=(1.05, 1), loc='upper left')\n",
        "plt.show()\n"
      ]
    },
    {
      "cell_type": "code",
      "execution_count": 45,
      "metadata": {},
      "outputs": [
        {
          "data": {
            "text/plain": [
              "<Figure size 700x500 with 0 Axes>"
            ]
          },
          "metadata": {},
          "output_type": "display_data"
        },
        {
          "data": {
            "image/png": "[encoded data removed]",
            "text/plain": [
              "<Figure size 640x480 with 1 Axes>"
            ]
          },
          "metadata": {},
          "output_type": "display_data"
        }
      ],
      "source": [
        "plt.figure(figsize=(7, 5))\n",
        "weather_cluster_df = pd.crosstab(day_df['weather_situation'], day_df['demand_cluster'])\n",
        "\n",
        "weather_cluster_df[order].plot(kind='bar', stacked=True, color=colors,\n",
        "                               edgecolor='black', alpha=0.8)\n",
        "\n",
        "plt.title('Demand Clusters by Weather', fontsize=12, weight='bold')\n",
        "plt.ylabel('Number of Days')\n",
        "plt.xlabel('Weather Situation')\n",
        "plt.xticks(rotation=45)\n",
        "plt.legend(title='Demand Cluster', bbox_to_anchor=(1.05, 1), loc='upper left')\n",
        "plt.show()\n"
      ]
    },
    {
      "cell_type": "code",
      "execution_count": 46,
      "metadata": {},
      "outputs": [
        {
          "data": {
            "text/plain": [
              "<Figure size 700x500 with 0 Axes>"
            ]
          },
          "metadata": {},
          "output_type": "display_data"
        },
        {
          "data": {
            "image/png": "[encoded data removed]",
            "text/plain": [
              "<Figure size 640x480 with 1 Axes>"
            ]
          },
          "metadata": {},
          "output_type": "display_data"
        }
      ],
      "source": [
        "plt.figure(figsize=(7, 5))\n",
        "user_by_cluster = day_df.groupby('demand_cluster')[['casual_users', 'registered_users']].mean().reindex(order)\n",
        "\n",
        "user_by_cluster.plot(kind='bar', color=['#FF7F50', '#4169E1'], \n",
        "                     edgecolor='black', alpha=0.8)\n",
        "\n",
        "plt.title('User Types by Demand Cluster', fontsize=12, weight='bold')\n",
        "plt.ylabel('Average Users')\n",
        "plt.xlabel('Demand Cluster')\n",
        "plt.legend(title='User Type', labels=['Casual', 'Registered'])\n",
        "plt.xticks(rotation=45)\n",
        "plt.show()\n"
      ]
    },
    {
      "cell_type": "code",
      "execution_count": 47,
      "metadata": {},
      "outputs": [
        {
          "data": {
            "image/png": "[encoded data removed]",
            "text/plain": [
              "<Figure size 700x500 with 1 Axes>"
            ]
          },
          "metadata": {},
          "output_type": "display_data"
        }
      ],
      "source": [
        "plt.figure(figsize=(7, 5))\n",
        "for i, cluster in enumerate(order):\n",
        "    cluster_data = day_df[day_df['demand_cluster'] == cluster]['temperature']\n",
        "    plt.hist(cluster_data, alpha=0.6, label=cluster, color=colors[i], \n",
        "             bins=15, edgecolor='black', linewidth=0.5)\n",
        "\n",
        "plt.title('Temperature Distribution by Cluster', fontsize=12, weight='bold')\n",
        "plt.xlabel('Temperature (Normalized)')\n",
        "plt.ylabel('Frequency')\n",
        "plt.legend(title='Demand Cluster')\n",
        "plt.show()\n"
      ]
    },
    {
      "cell_type": "markdown",
      "metadata": {},
      "source": [
        "####  Distribusi Demand\n",
        "- Proporsi hari terbanyak ada di **Medium Demand** (3000–6000 rentals).  \n",
        "- **High Demand Days** relatif lebih sedikit, tapi menyumbang volume penyewaan terbesar.  \n",
        "- **Low Demand Days** paling jarang, biasanya karena faktor cuaca buruk atau musim tertentu.  \n",
        "\n",
        "####  Rata-rata Penyewaan\n",
        "- **High Demand** rata-rata > 6000 rentals/hari → biasanya terjadi di **musim Fall & Summer** dengan kondisi **clear/partly cloudy**.  \n",
        "- **Medium Demand** sekitar **4000–5000 rentals/hari** → penyewaan stabil, mayoritas di **hari kerja**.  \n",
        "- **Low Demand** < 3000 rentals/hari → dominan di **Spring** atau saat **light rain/snow**.  \n",
        "\n",
        "####  Musim & Cuaca\n",
        "- **Fall** → cluster dominan adalah **High Demand**.  \n",
        "- **Spring** → lebih banyak masuk **Low Demand**.  \n",
        "- **Weather clear/partly cloudy** → mendominasi **High Demand**.  \n",
        "- **Light rain/snow** → hampir selalu masuk **Low Demand**.  \n",
        "\n",
        "####  Komposisi Pengguna\n",
        "- **High Demand** → didominasi oleh **registered users** (>80%) → artinya pengguna reguler.  \n",
        "- **Low Demand** → persentase **casual users** lebih tinggi → artinya banyak pengguna musiman/turis.  \n",
        "- **Medium Demand** → relatif seimbang, namun tetap **registered users** lebih dominan.  \n",
        "\n",
        "####  Faktor Temperatur\n",
        "- **High Demand** → rata-rata temperatur lebih **hangat** (ideal untuk bersepeda).  \n",
        "- **Low Demand** → cenderung pada temperatur **rendah** (musim dingin atau hujan).  \n"
      ]
    },
    {
      "cell_type": "markdown",
      "metadata": {
        "id": "_WeHlCeX8DC2"
      },
      "source": [
        "## Conclusion"
      ]
    },
    {
      "cell_type": "markdown",
      "metadata": {
        "id": "ZTcyR48Y8DC2"
      },
      "source": [
        "### Kesimpulan Pertanyaan 1: Pola Penggunaan Berdasarkan Musim\n",
        "Hasil analisis menunjukkan bahwa musim memiliki pengaruh signifikan terhadap pola penyewaan sepeda. **Musim Fall** mencatat penyewaan tertinggi dengan rata-rata harian yang optimal, diikuti oleh **Summer**. Sebaliknya, **Spring** memiliki penyewaan terendah. Pola ini mengindikasikan bahwa pengguna cenderung lebih aktif bersepeda pada cuaca yang tidak terlalu ekstrem - tidak terlalu panas (Summer) namun juga tidak terlalu dingin (Winter). **Fall** menjadi musim optimal karena menawarkan cuaca yang sejuk dan nyaman untuk aktivitas outdoor.\n",
        "\n",
        "**Rekomendasi Bisnis:**\n",
        "- Tingkatkan stok sepeda dan promosi khusus pada musim **Fall** dan **Summer**  \n",
        "- Siapkan strategi maintenance dan penyimpanan sepeda ekstra pada musim **Spring**  \n",
        "- Implementasikan **pricing strategy** yang fleksibel berdasarkan demand musiman  \n",
        "\n",
        "---\n",
        "\n",
        "### Kesimpulan Pertanyaan 2: Pengaruh Kondisi Cuaca\n",
        "Kondisi cuaca terbukti menjadi faktor determinan utama dalam keputusan penyewaan sepeda. Cuaca **Clear/Partly Cloudy** menghasilkan penyewaan tertinggi, sementara kondisi **Mist/Cloudy** dan **Light Snow/Light Rain** secara drastis menurunkan demand. **Temperature** dan **feels_temperature** menunjukkan korelasi positif yang kuat (>0.6), sedangkan **humidity** dan **wind_speed** memiliki dampak negatif terhadap penyewaan.\n",
        "\n",
        "**Rekomendasi Bisnis:**\n",
        "- Integrasikan sistem **prediksi cuaca** untuk perencanaan operasional harian  \n",
        "- Develop **indoor/covered bike stations** untuk hari dengan cuaca buruk  \n",
        "- Implementasikan **dynamic pricing** berdasarkan forecast cuaca  \n",
        "- Siapkan komunikasi proaktif kepada pelanggan tentang kondisi cuaca optimal  \n",
        "\n",
        "---\n",
        "\n",
        "### Kesimpulan Pertanyaan 3: Perbedaan Perilaku Casual vs Registered Users\n",
        "Terdapat perbedaan perilaku yang sangat jelas antara kedua segmen pengguna. **Registered users** mendominasi hari kerja (**87.7%**) dan menggunakan sepeda sebagai moda transportasi rutin (commuting). Sebaliknya, **casual users** lebih aktif pada weekend (**29.1% vs 12.3% weekday**) dengan motif rekreasional. Pola ini konsisten sepanjang hari dalam minggu, di mana weekend menunjukkan peningkatan signifikan aktivitas casual users.\n",
        "\n",
        "**Rekomendasi Bisnis:**\n",
        "- Targetkan **registered users** dengan paket berlangganan dan rute commuting  \n",
        "- Fokuskan promosi **casual users** pada weekend dengan paket family/leisure  \n",
        "- Optimalkan lokasi stasiun: dekat area bisnis untuk **registered**, dekat area wisata untuk **casual**  \n",
        "- Develop **loyalty program** yang berbeda untuk setiap segmen  \n",
        "\n",
        "---\n",
        "\n",
        "### Kesimpulan Pertanyaan 4: Peak Hours dan Pola Temporal\n",
        "Pola peak hours menunjukkan dua behavior yang sangat berbeda. **Hari kerja** memiliki pola **bimodal** dengan dua puncak utama pada jam **7-9 (morning commute)** dan **17-19 (evening commute)**, mencerminkan pola transportasi urban. **Weekend** menunjukkan pola **unimodal** dengan puncak stabil pada jam **11-16**, sesuai dengan aktivitas rekreasi yang lebih fleksibel.\n",
        "\n",
        "**Rekomendasi Bisnis:**\n",
        "- Siapkan kapasitas sepeda ekstra pada jam commuting (**7-9 & 17-19**) di hari kerja  \n",
        "- Fokuskan **maintenance** sepeda pada jam off-peak untuk menghindari gangguan operasional  \n",
        "- Implementasikan **surge pricing** pada peak hours untuk mengoptimalkan revenue  \n",
        "- Deploy sepeda secara strategis: area bisnis pada **weekday morning**, area residential pada **weekday evening**, area rekreasi pada **weekend afternoon**  \n"
      ]
    }
  ],
  "metadata": {
    "colab": {
      "provenance": []
    },
    "kernelspec": {
      "display_name": ".venv",
      "language": "python",
      "name": "python3"
    },
    "language_info": {
      "codemirror_mode": {
        "name": "ipython",
        "version": 3
      },
      "file_extension": ".py",
      "mimetype": "text/x-python",
      "name": "python",
      "nbconvert_exporter": "python",
      "pygments_lexer": "ipython3",
      "version": "3.13.6"
    },
    "orig_nbformat": 4
  },
  "nbformat": 4,
  "nbformat_minor": 0
}
